{
 "cells": [
  {
   "cell_type": "code",
   "execution_count": 39,
   "id": "3b37c202",
   "metadata": {},
   "outputs": [
    {
     "name": "stdout",
     "output_type": "stream",
     "text": [
      "Enter wight in kg : 6\n",
      "Enter hight in meter : g\n",
      "ERROR :  could not convert string to float: 'g'\n"
     ]
    }
   ],
   "source": [
    "# Python Program to calculate your Body Mass Index\n",
    "\n",
    "import logging\n",
    "logging.basicConfig(filename=\"calc1.log\", level=logging.INFO, format='%(asctime)s %(levelname)s %(message)s  %(lineno)d')\n",
    "\n",
    "def bmi_index(w, h) :\n",
    "    if w > 0 and h > 0:\n",
    "        bmi = w / (h**2)\n",
    "        raise Exception(\"expected positive values, got negetive\")\n",
    "    return bmi\n",
    "\n",
    "try :\n",
    "    \n",
    "    weight = float(input(\"Enter wight in kg : \"))\n",
    "    height = float(input(\"Enter hight in meter : \"))\n",
    "    \n",
    "    if height == 0:\n",
    "        logging.error(\"division be zero error\")\n",
    "        raise Exception (\"division by zero is not defined\")\n",
    "    else :\n",
    "        print(\"BMI Index is : \", bmi_index(weight, height))\n",
    "        logging.info(\"sucessful\")\n",
    "\n",
    "except Exception as e:\n",
    "    logging.error(\"invalid input\")\n",
    "    print(\"ERROR : \", e )"
   ]
  },
  {
   "cell_type": "code",
   "execution_count": 38,
   "id": "f8bc485d",
   "metadata": {},
   "outputs": [
    {
     "name": "stdout",
     "output_type": "stream",
     "text": [
      "Enter the value of n : dsf\n",
      "expectd only int values. ERROR :  invalid literal for int() with base 10: 'dsf'\n"
     ]
    }
   ],
   "source": [
    "# Python Program for cube sum of first n natural numbers\n",
    "\n",
    "import logging\n",
    "logging.basicConfig(filename=\"calc1.log\", level=logging.INFO, format='%(asctime)s %(levelname)s %(message)s  %(lineno)d')\n",
    "\n",
    "def sum_cube(n) :\n",
    "    \n",
    "    sum = ((n*(n+1))/2)**2\n",
    "    return int(sum)\n",
    "\n",
    "try:\n",
    "    num = int(input(\"Enter the value of n : \"))\n",
    "    print(sum_cube(num))\n",
    "    logging.info(\"sucessful\")\n",
    "\n",
    "except ValueError as e :\n",
    "    print(\"ERROR : \",e)\n",
    "    logging.error(\"Invalid input\")\n",
    "    \n",
    "    "
   ]
  },
  {
   "cell_type": "code",
   "execution_count": 44,
   "id": "ea85d9bf",
   "metadata": {},
   "outputs": [
    {
     "name": "stdout",
     "output_type": "stream",
     "text": [
      "Enter the value of n : sss\n",
      "ERROR :  could not convert string to float: 'sss'\n"
     ]
    }
   ],
   "source": [
    "# Program to calculate the natural logarithm of any number\n",
    "\n",
    "import logging\n",
    "logging.basicConfig(filename=\"calc1.log\", level=logging.INFO, format='%(asctime)s %(levelname)s %(message)s  %(lineno)d')\n",
    "\n",
    "import math\n",
    "\n",
    "def find_log(n): \n",
    "    return math.log(n)\n",
    "\n",
    "try : \n",
    "    num = float(input(\"Enter the value of n : \"))\n",
    "    print(find_log(num))\n",
    "    logging.info(\"sucessful\")\n",
    "\n",
    "except Exception as e :\n",
    "    print(\"ERROR : \",e)\n",
    "    logging.error(\"Invalid input\")"
   ]
  },
  {
   "cell_type": "code",
   "execution_count": 52,
   "id": "ca14c396",
   "metadata": {},
   "outputs": [
    {
     "name": "stdout",
     "output_type": "stream",
     "text": [
      "Enter the number of terms : sdfsd\n",
      "ERROR : invalid literal for int() with base 10: 'sdfsd'\n"
     ]
    }
   ],
   "source": [
    "# Python program to display the Fibonacci sequence\n",
    "\n",
    "import logging\n",
    "logging.basicConfig(filename=\"calc1.log\", level=logging.INFO, format='%(asctime)s %(levelname)s %(message)s  %(lineno)d')\n",
    "\n",
    "\n",
    "def fibo_recursion(n):\n",
    "    if n <= 1:\n",
    "        return n\n",
    "    else:\n",
    "        return(fibo_recursion(n-1) + fibo_recursion(n-2))\n",
    "\n",
    "try : \n",
    "    no_terms = int(input(\"Enter the number of terms : \"))\n",
    "    if no_terms <= 0:\n",
    "        logging.warning(\"positive input expected\")\n",
    "        print(\"Plese enter a positive integer\")\n",
    "    else:\n",
    "        print(\"Required Fibonacci Series is:\")\n",
    "        for i in range(no_terms):\n",
    "            print(fibo_recursion(i))\n",
    "        logging.info(\"sucessful\")\n",
    "\n",
    "except Exception as e :\n",
    "    print(\"ERROR :\",e)\n",
    "    logging.error(\"Invalid input\")"
   ]
  },
  {
   "cell_type": "code",
   "execution_count": 56,
   "id": "7a472623",
   "metadata": {},
   "outputs": [
    {
     "name": "stdout",
     "output_type": "stream",
     "text": [
      "Enter the number : kjjk\n",
      "ERROR :  invalid literal for int() with base 10: 'kjjk'\n"
     ]
    }
   ],
   "source": [
    "# Factorial of a number using recursion\n",
    "\n",
    "import logging\n",
    "logging.basicConfig(filename=\"calc1.log\", level=logging.INFO, format='%(asctime)s %(levelname)s %(message)s  %(lineno)d')\n",
    "\n",
    "def recur_factorial(n): \n",
    "    if n == 1:\n",
    "        return n\n",
    "    else:\n",
    "        return n*recur_factorial(n-1)\n",
    "\n",
    "try :\n",
    "    \n",
    "    num = int(input(\"Enter the number : \"))\n",
    "    if num < 0:\n",
    "        raise Exception(\"expected positive int, got negetive\")\n",
    "    elif num == 0:\n",
    "        print(\"The factorial of 0 is 1\")\n",
    "    else:\n",
    "        print(\"The factorial of\", num, \"is\", recur_factorial(num))\n",
    "\n",
    "except Exception as e :\n",
    "    logging.error(\"invalid input type or negetive input\")\n",
    "    print(\"ERROR : \",e)"
   ]
  },
  {
   "cell_type": "code",
   "execution_count": null,
   "id": "2f34f511",
   "metadata": {},
   "outputs": [],
   "source": []
  }
 ],
 "metadata": {
  "kernelspec": {
   "display_name": "Python 3 (ipykernel)",
   "language": "python",
   "name": "python3"
  },
  "language_info": {
   "codemirror_mode": {
    "name": "ipython",
    "version": 3
   },
   "file_extension": ".py",
   "mimetype": "text/x-python",
   "name": "python",
   "nbconvert_exporter": "python",
   "pygments_lexer": "ipython3",
   "version": "3.9.7"
  }
 },
 "nbformat": 4,
 "nbformat_minor": 5
}
