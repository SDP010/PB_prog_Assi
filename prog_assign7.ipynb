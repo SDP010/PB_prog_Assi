{
 "cells": [
  {
   "cell_type": "code",
   "execution_count": 6,
   "id": "bd89e31e",
   "metadata": {},
   "outputs": [
    {
     "name": "stdout",
     "output_type": "stream",
     "text": [
      "Sum is :  array('b', [1, 2, 3, 4, 5, 6, 7, 8, 9, 10])\n"
     ]
    }
   ],
   "source": [
    "# Python Program to find sum of array\n",
    "\n",
    "import array as myarray\n",
    "\n",
    "def sum_arr(arr_1, arr_2):\n",
    "    sum_arr = arr_1 + arr_2\n",
    "    return sum_arr\n",
    "\n",
    "first_arr = myarray.array(\"b\",[1,2,3,4,5])\n",
    "second_arr = myarray.array(\"b\", [6,7,8,9,10])\n",
    "print (\"Sum is : \", sum_arr(first_arr, second_arr))"
   ]
  },
  {
   "cell_type": "code",
   "execution_count": 3,
   "id": "16c8cb36",
   "metadata": {},
   "outputs": [
    {
     "data": {
      "text/plain": [
       "23"
      ]
     },
     "execution_count": 3,
     "metadata": {},
     "output_type": "execute_result"
    }
   ],
   "source": [
    "# Python Program to find largest element in an array\n",
    "\n",
    "import array\n",
    "\n",
    "def max_ele(arr,n) :\n",
    "    \n",
    "    maxi = arr[0]\n",
    "  \n",
    "    for i in range(1, n) :\n",
    "        if arr[i] > maxi :\n",
    "            maxi = arr[i]\n",
    "    return maxi\n",
    "\n",
    "arr = array.array(\"b\",[4,7,9,23,11,3])\n",
    "n = len(arr)\n",
    "print(\"Largest element is : \" , max_ele(arr,n)"
   ]
  },
  {
   "cell_type": "code",
   "execution_count": 3,
   "id": "7f483745",
   "metadata": {},
   "outputs": [
    {
     "data": {
      "text/plain": [
       "'It is not monotone'"
      ]
     },
     "execution_count": 3,
     "metadata": {},
     "output_type": "execute_result"
    }
   ],
   "source": [
    "#5. program to check given array is monotonic\n",
    "\n",
    "def check_mono(l):\n",
    "    k=0\n",
    "    if l[0]<l[1]:\n",
    "        for i in range(len(l)-1):\n",
    "            if l[i]>l[i+1]:\n",
    "                k=1\n",
    "    if l[0]>l[1]:\n",
    "        for i in range(len(l)-1):\n",
    "            if l[i]<l[i+1]:\n",
    "                k=2\n",
    "    if k==0:\n",
    "        print('the given array is monotone')\n",
    "    else:\n",
    "        print('the given array is not monotone')"
   ]
  },
  {
   "cell_type": "code",
   "execution_count": null,
   "id": "d0f05f23",
   "metadata": {},
   "outputs": [],
   "source": [
    "#3. program for array of n elements ratation of order d\n",
    "\n",
    "def rot(l,n,d):\n",
    "    temp=[]\n",
    "    for i in range(d):\n",
    "        temp.append(l[i])\n",
    "    for i in range(n-d):\n",
    "        l[i]=l[(n-d)+i-1]\n",
    "    l[:]=l[0:(n-d)]+temp\n",
    "    return l"
   ]
  },
  {
   "cell_type": "code",
   "execution_count": null,
   "id": "e87d535b",
   "metadata": {},
   "outputs": [],
   "source": [
    "#4. program to split the array and add the first part to the end\n",
    "\n",
    "def split(l,n):\n",
    "    x=l[0]\n",
    "    for i in range(n-1):\n",
    "        l[i]=l[i+1]\n",
    "    l[n-1]=x\n",
    "    return l"
   ]
  }
 ],
 "metadata": {
  "kernelspec": {
   "display_name": "Python 3 (ipykernel)",
   "language": "python",
   "name": "python3"
  },
  "language_info": {
   "codemirror_mode": {
    "name": "ipython",
    "version": 3
   },
   "file_extension": ".py",
   "mimetype": "text/x-python",
   "name": "python",
   "nbconvert_exporter": "python",
   "pygments_lexer": "ipython3",
   "version": "3.9.7"
  }
 },
 "nbformat": 4,
 "nbformat_minor": 5
}
