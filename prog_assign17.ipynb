{
 "cells": [
  {
   "cell_type": "code",
   "execution_count": 2,
   "id": "a8bfea34",
   "metadata": {},
   "outputs": [
    {
     "name": "stdout",
     "output_type": "stream",
     "text": [
      "Enter the value of a : 1\n",
      "Enter the value of b : 10\n",
      "Enter the value of c : 2\n",
      "Sum of numbers evenly divisible by 2 b/w 1 and 10 is = 30\n"
     ]
    }
   ],
   "source": [
    "\"\"\"Question1. Create a function that takes three arguments a, b, c and returns the sum of the\n",
    "numbers that are evenly divided by c from the range a, b inclusive.\"\"\"\n",
    "\n",
    "def evenly_divisible(a,b,c):\n",
    "    temp = []\n",
    "    sum = 0\n",
    "    for i in range(a,b+1):\n",
    "        if i % c == 0 :\n",
    "            temp.append(i)\n",
    "    for i in temp :\n",
    "        sum = sum + i\n",
    "    return sum\n",
    "\n",
    "try :\n",
    "    a = int(input(\"Enter the value of a : \"))\n",
    "    b = int(input(\"Enter the value of b : \"))\n",
    "    c = int(input(\"Enter the value of c : \"))\n",
    "    result = evenly_divisible(a,b,c)\n",
    "    print(f\"Sum of numbers evenly divisible by {c} b/w {a} and {b} is = {result}\")\n",
    "\n",
    "except Exception as e :\n",
    "    print(e)"
   ]
  },
  {
   "cell_type": "code",
   "execution_count": 6,
   "id": "29895b79",
   "metadata": {},
   "outputs": [
    {
     "name": "stdout",
     "output_type": "stream",
     "text": [
      "Enter the expression : 3<5<7\n",
      "True\n"
     ]
    }
   ],
   "source": [
    "\"\"\"Question2. Create a function that returns True if a given inequality expression is correct and\n",
    "False otherwise.\"\"\"\n",
    "\n",
    "def check_signs(exp):\n",
    "    temp = eval(exp)\n",
    "    if temp == True :\n",
    "        return True\n",
    "    else :\n",
    "        return False\n",
    "try : \n",
    "    exp = input(\"Enter the expression : \")\n",
    "    print(check_signs(exp))\n",
    "    \n",
    "except Exception as e :\n",
    "    print(e)\n",
    "    "
   ]
  },
  {
   "cell_type": "code",
   "execution_count": 33,
   "id": "a832cb16",
   "metadata": {},
   "outputs": [
    {
     "name": "stdout",
     "output_type": "stream",
     "text": [
      "Enter the string : shakespeare\n",
      "Enter the special char : *\n",
      "String after replacing the vowels by * is : sh*k*sp**r*\n"
     ]
    }
   ],
   "source": [
    "\"\"\"Question3. Create a function that replaces all the vowels in a string with a specified character.\"\"\"\n",
    "\n",
    "def replace_vowels(string, sp_char):\n",
    "    for i in string :\n",
    "        for j in \"aeiouAEIOU\":\n",
    "            string = string.replace(j, sp_char)\n",
    "    return string\n",
    "\n",
    "try :\n",
    "    string = input(\"Enter the string : \")\n",
    "    sp_char = input(\"Enter the special char : \")\n",
    "    result = replace_vowels(string, sp_char)\n",
    "    print(f\"String after replacing the vowels by {sp_char} is : {result}\")\n",
    "    \n",
    "except Exception as e :\n",
    "    print(e)"
   ]
  },
  {
   "cell_type": "code",
   "execution_count": 4,
   "id": "6d3c297a",
   "metadata": {},
   "outputs": [
    {
     "name": "stdout",
     "output_type": "stream",
     "text": [
      "Enter the value of n : 5\n",
      "Factorial of 5 is 120.\n"
     ]
    }
   ],
   "source": [
    "\"\"\"Question4. Write a function that calculates the factorial of a number recursively.\"\"\"\n",
    "\n",
    "def get_factorial(n) :\n",
    "    if n == 0:\n",
    "        return 1\n",
    "    elif n == 1:\n",
    "        return n\n",
    "    else :\n",
    "        return (n*get_factorial(n-1))\n",
    "    \n",
    "try :\n",
    "    n = int(input(\"Enter the value of n : \"))\n",
    "    if n >= 0 :\n",
    "        result = get_factorial(n)\n",
    "    else :\n",
    "        raise Exception (\"Invalid input\")\n",
    "    print(f\"Factorial of {n} is {result}.\")\n",
    "\n",
    "except Exception as e :\n",
    "    print(e)\n"
   ]
  },
  {
   "cell_type": "code",
   "execution_count": 4,
   "id": "2b76f047",
   "metadata": {},
   "outputs": [
    {
     "name": "stdout",
     "output_type": "stream",
     "text": [
      "Enter the first string : strong\n",
      "Enter the second string : strung\n",
      "Hamming distance b/w strong and strung is 1.\n"
     ]
    }
   ],
   "source": [
    "\"\"\"Question 5\n",
    "Hamming distance is the number of characters that differ between two strings.\n",
    "To illustrate:\n",
    "String1: &quot;abcbba&quot;\n",
    "String2: &quot;abcbda&quot;\n",
    "Hamming Distance: 1 - &quot;b&quot; vs. &quot;d&quot; is the only difference.\n",
    "Create a function that computes the hamming distance between two strings.\"\"\"\n",
    "\n",
    "def hamming_distance(s_1,s_2):\n",
    "    sum = 0\n",
    "    for i in range(len(s_1)):\n",
    "        if s_1[i] != s_2[i]:\n",
    "            sum = sum + 1\n",
    "    return sum\n",
    "\n",
    "try :\n",
    "    s_1 = input(\"Enter the first string : \")\n",
    "    s_2 = input(\"Enter the second string : \")\n",
    "    result = hamming_distance(s_1,s_2)\n",
    "    print(f\"Hamming distance b/w {s_1} and {s_2} is {result}.\")\n",
    "\n",
    "except Exception as e :\n",
    "    print(e)"
   ]
  },
  {
   "cell_type": "code",
   "execution_count": null,
   "id": "b0950653",
   "metadata": {},
   "outputs": [],
   "source": []
  }
 ],
 "metadata": {
  "kernelspec": {
   "display_name": "Python 3 (ipykernel)",
   "language": "python",
   "name": "python3"
  },
  "language_info": {
   "codemirror_mode": {
    "name": "ipython",
    "version": 3
   },
   "file_extension": ".py",
   "mimetype": "text/x-python",
   "name": "python",
   "nbconvert_exporter": "python",
   "pygments_lexer": "ipython3",
   "version": "3.9.7"
  }
 },
 "nbformat": 4,
 "nbformat_minor": 5
}
