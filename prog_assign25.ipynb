{
 "cells": [
  {
   "cell_type": "code",
   "execution_count": 7,
   "id": "029c5fd6",
   "metadata": {},
   "outputs": [],
   "source": [
    "\"\"\"Create a function that takes three integer arguments (a, b, c) and returns the amount of\n",
    "integers which are of equal value.\"\"\"\n",
    "\n",
    "def equal(a,b,c):\n",
    "    temp = [a,b,c]\n",
    "    l=[]\n",
    "    for i in temp :\n",
    "        if temp.count(i) > 1:\n",
    "            l.append(i)\n",
    "    return len(l)"
   ]
  },
  {
   "cell_type": "code",
   "execution_count": 10,
   "id": "f15ebabd",
   "metadata": {},
   "outputs": [
    {
     "data": {
      "text/plain": [
       "2"
      ]
     },
     "execution_count": 10,
     "metadata": {},
     "output_type": "execute_result"
    }
   ],
   "source": [
    "equal(3,4,3)"
   ]
  },
  {
   "cell_type": "code",
   "execution_count": 11,
   "id": "ff77f668",
   "metadata": {},
   "outputs": [
    {
     "data": {
      "text/plain": [
       "3"
      ]
     },
     "execution_count": 11,
     "metadata": {},
     "output_type": "execute_result"
    }
   ],
   "source": [
    "equal(1, 1, 1)"
   ]
  },
  {
   "cell_type": "code",
   "execution_count": 12,
   "id": "4298a5de",
   "metadata": {},
   "outputs": [
    {
     "data": {
      "text/plain": [
       "0"
      ]
     },
     "execution_count": 12,
     "metadata": {},
     "output_type": "execute_result"
    }
   ],
   "source": [
    "equal(3, 4, 1)"
   ]
  },
  {
   "cell_type": "code",
   "execution_count": 21,
   "id": "a288139b",
   "metadata": {},
   "outputs": [],
   "source": [
    "\"\"\"Write a function that converts a dictionary into a list of keys-values tuples.\"\"\"\n",
    "\n",
    "def dict_to_list(d):\n",
    "    return sorted(d.items())"
   ]
  },
  {
   "cell_type": "code",
   "execution_count": 22,
   "id": "a3c90d4a",
   "metadata": {},
   "outputs": [
    {
     "data": {
      "text/plain": [
       "[('B', 2), ('C', 3), ('D', 1)]"
      ]
     },
     "execution_count": 22,
     "metadata": {},
     "output_type": "execute_result"
    }
   ],
   "source": [
    "dict_to_list({'D':1, 'B':2, 'C':3})"
   ]
  },
  {
   "cell_type": "code",
   "execution_count": 23,
   "id": "10f04820",
   "metadata": {},
   "outputs": [],
   "source": [
    "\"\"\"Write a function that creates a dictionary with each (key, value) pair being the (lower case,\n",
    "upper case) versions of a letter, respectively.\"\"\"\n",
    "\n",
    "def mapping(l):\n",
    "    temp = {}\n",
    "    for i in l :\n",
    "        temp[i] = i.upper()\n",
    "    return temp"
   ]
  },
  {
   "cell_type": "code",
   "execution_count": 25,
   "id": "cb83b01d",
   "metadata": {},
   "outputs": [
    {
     "data": {
      "text/plain": [
       "{'a': 'A', 'b': 'B', 'c': 'C'}"
      ]
     },
     "execution_count": 25,
     "metadata": {},
     "output_type": "execute_result"
    }
   ],
   "source": [
    "mapping(['a','b','c'])"
   ]
  },
  {
   "cell_type": "code",
   "execution_count": 27,
   "id": "acda859d",
   "metadata": {},
   "outputs": [],
   "source": [
    "\"\"\"Write a function, that replaces all vowels in a string with a specified vowel.\"\"\"\n",
    "\n",
    "def vow_replace(string, vowel):\n",
    "    s = string\n",
    "    v = 'aeiouAEIOU'\n",
    "    for i in v :\n",
    "        s = s.replace(i, vowel)\n",
    "    return s"
   ]
  },
  {
   "cell_type": "code",
   "execution_count": 28,
   "id": "1fc51696",
   "metadata": {},
   "outputs": [
    {
     "data": {
      "text/plain": [
       "'upplus und bununus'"
      ]
     },
     "execution_count": 28,
     "metadata": {},
     "output_type": "execute_result"
    }
   ],
   "source": [
    "vow_replace('apples and bananas', 'u')"
   ]
  },
  {
   "cell_type": "code",
   "execution_count": 29,
   "id": "b1ea24ea",
   "metadata": {},
   "outputs": [],
   "source": [
    "\"\"\"Create a function that takes a string as input and capitalizes a letter if its ASCII code is even\n",
    "and returns its lower case version if its ASCII code is odd.\"\"\"\n",
    "\n",
    "def ascii_capital(s):\n",
    "    s1=''\n",
    "    for i in s:\n",
    "        if ord(i)%2==0:\n",
    "            s1=s1+i.upper()\n",
    "        else:\n",
    "            s1=s1+i.lower()\n",
    "    return s1"
   ]
  },
  {
   "cell_type": "code",
   "execution_count": 30,
   "id": "92e3a15f",
   "metadata": {},
   "outputs": [
    {
     "data": {
      "text/plain": [
       "'To Be oR NoT To Be'"
      ]
     },
     "execution_count": 30,
     "metadata": {},
     "output_type": "execute_result"
    }
   ],
   "source": [
    "ascii_capital('to be or not to be')"
   ]
  },
  {
   "cell_type": "code",
   "execution_count": null,
   "id": "48b3419d",
   "metadata": {},
   "outputs": [],
   "source": []
  }
 ],
 "metadata": {
  "kernelspec": {
   "display_name": "Python 3 (ipykernel)",
   "language": "python",
   "name": "python3"
  },
  "language_info": {
   "codemirror_mode": {
    "name": "ipython",
    "version": 3
   },
   "file_extension": ".py",
   "mimetype": "text/x-python",
   "name": "python",
   "nbconvert_exporter": "python",
   "pygments_lexer": "ipython3",
   "version": "3.9.7"
  }
 },
 "nbformat": 4,
 "nbformat_minor": 5
}
