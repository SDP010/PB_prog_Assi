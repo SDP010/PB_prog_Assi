{
 "cells": [
  {
   "cell_type": "code",
   "execution_count": 16,
   "id": "4022dea9",
   "metadata": {},
   "outputs": [],
   "source": [
    "\"\"\"Create a function that takes an integer and returns a list from 1 to the given number, where:\n",
    "1. If the number can be divided evenly by 4, amplify it by 10 (i.e. return 10 times the\n",
    "number).\n",
    "2. If the number cannot be divided evenly by 4, simply return the number.\"\"\"\n",
    "\n",
    "def amplify(n):\n",
    "    temp =[]\n",
    "    for i in range(1,n+1):\n",
    "        if i % 4 == 0 :\n",
    "            temp.append(i*10)\n",
    "        else :\n",
    "            temp.append(i)\n",
    "    return temp"
   ]
  },
  {
   "cell_type": "code",
   "execution_count": 17,
   "id": "756c6b22",
   "metadata": {},
   "outputs": [
    {
     "data": {
      "text/plain": [
       "[1, 2, 3, 40]"
      ]
     },
     "execution_count": 17,
     "metadata": {},
     "output_type": "execute_result"
    }
   ],
   "source": [
    "amplify(4)"
   ]
  },
  {
   "cell_type": "code",
   "execution_count": 20,
   "id": "8916b732",
   "metadata": {},
   "outputs": [],
   "source": [
    "\"\"\"Create a function that takes a list of numbers and return the number that's unique.\"\"\"\n",
    "\n",
    "def unique(l):\n",
    "    for i in l :\n",
    "        if l.count(i) == 1 :\n",
    "            return i"
   ]
  },
  {
   "cell_type": "code",
   "execution_count": 21,
   "id": "1ab2d8f0",
   "metadata": {},
   "outputs": [
    {
     "data": {
      "text/plain": [
       "7"
      ]
     },
     "execution_count": 21,
     "metadata": {},
     "output_type": "execute_result"
    }
   ],
   "source": [
    "unique([3,3,3,7,3,3])"
   ]
  },
  {
   "cell_type": "code",
   "execution_count": 30,
   "id": "6bb351a9",
   "metadata": {},
   "outputs": [],
   "source": [
    "\"\"\"Your task is to create a Circle constructor that creates a circle with a radius provided by an\n",
    "argument. The circles constructed must have two getters getArea() (PIr^2) and\n",
    "getPerimeter() (2PI*r) which give both respective areas and perimeter (circumference).\"\"\"\n",
    "\n",
    "class circle:\n",
    "    def __init__(self, r):\n",
    "        self.radious = r\n",
    "    \n",
    "    def getArea(self):\n",
    "        area = (22/7)*((self.radious)**2)\n",
    "        return area\n",
    "    def getPerimeter(self):\n",
    "        peri = 2*(22/7)*(self.radious)\n",
    "        return peri\n",
    "    "
   ]
  },
  {
   "cell_type": "code",
   "execution_count": 36,
   "id": "cc38a7c7",
   "metadata": {},
   "outputs": [
    {
     "data": {
      "text/plain": [
       "380.2857142857143"
      ]
     },
     "execution_count": 36,
     "metadata": {},
     "output_type": "execute_result"
    }
   ],
   "source": [
    "circy = circle(11)\n",
    "circy.getArea()"
   ]
  },
  {
   "cell_type": "code",
   "execution_count": 37,
   "id": "60829e96",
   "metadata": {},
   "outputs": [
    {
     "data": {
      "text/plain": [
       "27.90857142857143"
      ]
     },
     "execution_count": 37,
     "metadata": {},
     "output_type": "execute_result"
    }
   ],
   "source": [
    "circy = circle(4.44)\n",
    "circy.getPerimeter()"
   ]
  },
  {
   "cell_type": "code",
   "execution_count": 38,
   "id": "c70557b0",
   "metadata": {},
   "outputs": [],
   "source": [
    "\"\"\"Create a function that takes a list of strings and return a list, sorted from shortest to longest.\"\"\"\n",
    "\n",
    "def sort_list_len(l):\n",
    "    l.sort(key=len)\n",
    "    return l"
   ]
  },
  {
   "cell_type": "code",
   "execution_count": 39,
   "id": "3571b53d",
   "metadata": {},
   "outputs": [
    {
     "data": {
      "text/plain": [
       "['apple', 'google', 'microsoft']"
      ]
     },
     "execution_count": 39,
     "metadata": {},
     "output_type": "execute_result"
    }
   ],
   "source": [
    "sort_list_len(['google', 'apple', 'microsoft'])"
   ]
  },
  {
   "cell_type": "code",
   "execution_count": 3,
   "id": "8328aab2",
   "metadata": {},
   "outputs": [],
   "source": [
    "\"\"\"Create a function that validates whether three given integers form a Pythagorean triplet. The\n",
    "sum of the squares of the two smallest integers must equal the square of the largest number to\n",
    "be validated.\"\"\"\n",
    "\n",
    "def is_triplet(a,b,c):\n",
    "    if a**2 + b**2 == c**2 or b** + c**2 == a**2  or c**2 + a**2 == b**2 :\n",
    "        return True\n",
    "    else :\n",
    "        return False"
   ]
  },
  {
   "cell_type": "code",
   "execution_count": 4,
   "id": "33968a17",
   "metadata": {},
   "outputs": [
    {
     "data": {
      "text/plain": [
       "True"
      ]
     },
     "execution_count": 4,
     "metadata": {},
     "output_type": "execute_result"
    }
   ],
   "source": [
    "is_triplet(3,4,5)"
   ]
  },
  {
   "cell_type": "code",
   "execution_count": null,
   "id": "1bfe5849",
   "metadata": {},
   "outputs": [],
   "source": []
  }
 ],
 "metadata": {
  "kernelspec": {
   "display_name": "Python 3 (ipykernel)",
   "language": "python",
   "name": "python3"
  },
  "language_info": {
   "codemirror_mode": {
    "name": "ipython",
    "version": 3
   },
   "file_extension": ".py",
   "mimetype": "text/x-python",
   "name": "python",
   "nbconvert_exporter": "python",
   "pygments_lexer": "ipython3",
   "version": "3.9.7"
  }
 },
 "nbformat": 4,
 "nbformat_minor": 5
}
