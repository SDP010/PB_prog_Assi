{
 "cells": [
  {
   "cell_type": "code",
   "execution_count": 8,
   "id": "2ea3fbd6",
   "metadata": {},
   "outputs": [
    {
     "name": "stdout",
     "output_type": "stream",
     "text": [
      " Enter the string : my name is subhradipta and i am learning python basic\n",
      "Enter the value of n :4\n",
      "list of words greater than length 4 are : ['subhradipta', 'learning', 'python', 'basic']\n"
     ]
    }
   ],
   "source": [
    "#1. Python program to find words which are greater than given length k\n",
    "\n",
    "def word_greater_k(s, n) :\n",
    "    temp =[]\n",
    "    l = s.split(\" \")\n",
    "    for i in l :\n",
    "        if len(i) > n :\n",
    "            temp.append(i)\n",
    "    return temp\n",
    "\n",
    "try :\n",
    "    string = input(\" Enter the string : \")\n",
    "    length = int(input(\"Enter the value of n :\"))\n",
    "    if type(string) == str and type(length) == int :\n",
    "        result = word_greater_k(string, length)\n",
    "    else :\n",
    "        raise Exception(\"ERROR : invalid input\")\n",
    "    print(f'list of words greater than length {length} are : {result}')\n",
    "    \n",
    "except Exception as e :\n",
    "    print(\"error : \", e)\n"
   ]
  },
  {
   "cell_type": "code",
   "execution_count": 19,
   "id": "bb3eacd7",
   "metadata": {},
   "outputs": [
    {
     "name": "stdout",
     "output_type": "stream",
     "text": [
      "Enter the string : SubhradiptaPaul\n",
      "Enter the value of n :3\n",
      "Given string after removing 3th vharacter is :  SuhradiptaPaul\n"
     ]
    }
   ],
   "source": [
    "#2 Python program for removing n-th character from a string.\n",
    "\n",
    "def rem_nthchar(string, n) :\n",
    "    temp = \" \"\n",
    "    s = list(string)\n",
    "    for i in range(len(s)) :\n",
    "        if i == n :\n",
    "            s.remove(s[i-1])\n",
    "            \n",
    "    for j in s :\n",
    "        temp = temp + j\n",
    "    return temp\n",
    "        \n",
    "try :\n",
    "    string = input(\"Enter the string : \")\n",
    "    length = int(input(\"Enter the value of n :\"))\n",
    "    if type(string) == str and type(length) == int :\n",
    "        result = rem_nthchar(string, length)\n",
    "    else :\n",
    "        raise Exception(\"ERROR : invalid input\")\n",
    "    print(f'Given string after removing {length}th vharacter is : {result}')\n",
    "    \n",
    "except Exception as e :\n",
    "    print(\"error : \", e)\n",
    "\n",
    "    "
   ]
  },
  {
   "cell_type": "code",
   "execution_count": 7,
   "id": "d1d5951e",
   "metadata": {},
   "outputs": [
    {
     "name": "stdout",
     "output_type": "stream",
     "text": [
      "Enter the string : my name is sdp\n",
      "Given string after splliting is : ['my', 'name', 'is', 'sdp']\n",
      "Given string after splliting and joining : my_name_is_sdp\n"
     ]
    }
   ],
   "source": [
    "#3. Python program to split and join a string\n",
    "\n",
    "def split_str(s) :\n",
    "    l = s.split(\" \")\n",
    "    splt_strng = \"_\".join(l)\n",
    "    return splt_strng\n",
    "\n",
    "        \n",
    "try :\n",
    "    string = input(\"Enter the string : \")\n",
    "    if type(string) == str :\n",
    "        temp = string.split(\" \")\n",
    "        result = split_str(string)\n",
    "    else :\n",
    "        raise Exception(\"ERROR : invalid input\")\n",
    "    print(f'Given string after splliting is : {temp}')\n",
    "    print(f'Given string after splliting and joining : {result}')\n",
    "    \n",
    "except Exception as e :\n",
    "    print(\"error : \", e)"
   ]
  },
  {
   "cell_type": "code",
   "execution_count": 23,
   "id": "dbe85454",
   "metadata": {},
   "outputs": [
    {
     "name": "stdout",
     "output_type": "stream",
     "text": [
      "Enter the string : 100110\n",
      "Given string is : 100110\n",
      "The string is binary\n"
     ]
    }
   ],
   "source": [
    "#4. Write a Python to check if a given string is binary string or not\n",
    "\n",
    "def check_binary(s) :\n",
    "    l  = list(s)\n",
    "    temp =0\n",
    "    for i in l :\n",
    "        if i != \"0\" and i != \"1\" :\n",
    "            print(f\"the string is not binary\")\n",
    "            temp = 1\n",
    "            break\n",
    "    if temp == 0 :\n",
    "        print(f\"The string is binary\")\n",
    "    return\n",
    "        \n",
    "try :\n",
    "    string = input(\"Enter the string : \")\n",
    "    if type(string) == str :\n",
    "        print(f'Given string is : {string}')\n",
    "        result = check_binary(string)\n",
    "    else :\n",
    "        raise Exception(\"ERROR : invalid input\")\n",
    "    \n",
    "except Exception as e :\n",
    "    print(\"error : \", e)"
   ]
  },
  {
   "cell_type": "code",
   "execution_count": 32,
   "id": "622ec2d1",
   "metadata": {},
   "outputs": [
    {
     "name": "stdout",
     "output_type": "stream",
     "text": [
      "Enter the  first string : my name sdp\n",
      "Enter the  second string : my name subhra\n",
      "uncommon words are : ['sdp', 'subhra']\n"
     ]
    }
   ],
   "source": [
    "#5. Python program to find uncommon words from two Strings\n",
    "\n",
    "def find_uncommon_words(s1,s2) :\n",
    "    l1 = s1.split(\" \")\n",
    "    l2 = s2.split(\" \")\n",
    "    temp =[]\n",
    "    for i in l1 :\n",
    "        if not i in l2 :\n",
    "            temp.append(i)\n",
    "    for j in l2 :\n",
    "        if not j in l1 :\n",
    "            temp.append(j)\n",
    "    return temp\n",
    "\n",
    "try :\n",
    "    string_1 = input(\"Enter the  first string : \")\n",
    "    string_2 = input(\"Enter the  second string : \")\n",
    "    result = find_uncommon_words(string_1,string_2)\n",
    "    print(f'uncommon words are : {result}')\n",
    "    \n",
    "except Exception as e :\n",
    "    print(\"error : \", e)\n",
    "            "
   ]
  },
  {
   "cell_type": "code",
   "execution_count": 63,
   "id": "7318d259",
   "metadata": {},
   "outputs": [
    {
     "name": "stdout",
     "output_type": "stream",
     "text": [
      "Enter the string : (1,2,3,4)\n",
      "duplicate characters in (1,2,3,4) are : {','}\n"
     ]
    }
   ],
   "source": [
    "#6. Python to find all duplicate characters in string\n",
    "\n",
    "def dupli_char(s) :\n",
    "    temp =[]\n",
    "    l = list(s)\n",
    "    for i in l :\n",
    "        if l.count(i) > 1 :\n",
    "            temp.append(i)\n",
    "    return set(temp)\n",
    "\n",
    "try :\n",
    "    string = input(\"Enter the string : \")\n",
    "    result = dupli_char(string)\n",
    "\n",
    "    if result == set() :\n",
    "        print(f'No duplicate character in {string}')\n",
    "    else :\n",
    "        print(f'duplicate characters in {string} are : {result}')\n",
    "    \n",
    "except Exception as e :\n",
    "    print(\"error : \", e)\n",
    "\n",
    "    "
   ]
  },
  {
   "cell_type": "code",
   "execution_count": 67,
   "id": "f2c40aed",
   "metadata": {},
   "outputs": [
    {
     "name": "stdout",
     "output_type": "stream",
     "text": [
      "Enter the string : subhra_*&%dipta\n",
      "subhra_*&%dipta has special character\n"
     ]
    }
   ],
   "source": [
    "#7. Python Program to check if a string contains any special character\n",
    "\n",
    "def check_spchar(s) :\n",
    "    sp_char = \"!@#$%^&*_-~`+=<>?|\\/.,\"\n",
    "    flag = 0\n",
    "    for i in s :\n",
    "        if i in sp_char :\n",
    "            flag = 1\n",
    "        else :\n",
    "            pass\n",
    "    return flag\n",
    "try :\n",
    "    string = input(\"Enter the string : \")\n",
    "    result = check_spchar(string)\n",
    "\n",
    "    if result == 0 :\n",
    "        print(f'No special character in {string}')\n",
    "    else :\n",
    "        print(f'{string} has special character')\n",
    "    \n",
    "except Exception as e :\n",
    "    print(\"error : \", e)\n"
   ]
  },
  {
   "cell_type": "code",
   "execution_count": null,
   "id": "00889c1e",
   "metadata": {},
   "outputs": [],
   "source": []
  }
 ],
 "metadata": {
  "kernelspec": {
   "display_name": "Python 3 (ipykernel)",
   "language": "python",
   "name": "python3"
  },
  "language_info": {
   "codemirror_mode": {
    "name": "ipython",
    "version": 3
   },
   "file_extension": ".py",
   "mimetype": "text/x-python",
   "name": "python",
   "nbconvert_exporter": "python",
   "pygments_lexer": "ipython3",
   "version": "3.9.7"
  }
 },
 "nbformat": 4,
 "nbformat_minor": 5
}
