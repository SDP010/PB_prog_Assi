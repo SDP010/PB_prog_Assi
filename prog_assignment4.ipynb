{
 "cells": [
  {
   "cell_type": "code",
   "execution_count": null,
   "id": "079142c0",
   "metadata": {},
   "outputs": [],
   "source": [
    "\n",
    "\n",
    "\n",
    "\n",
    "\n"
   ]
  },
  {
   "cell_type": "code",
   "execution_count": 18,
   "id": "f288a8ff",
   "metadata": {},
   "outputs": [
    {
     "name": "stdout",
     "output_type": "stream",
     "text": [
      "Enter the value of n = 6\n",
      "Fatorial of  6 is =  720\n"
     ]
    }
   ],
   "source": [
    "# 1. Write a Python Program to Find the Factorial of a Number?\n",
    "\n",
    "#answer\n",
    "\n",
    "def fact_num(n):\n",
    "    \"\"\"returns the factorial value of given number\n",
    "       takes only int type values\"\"\"\n",
    "    facto = 1\n",
    "    if n < 0 :\n",
    "        print(\"Factorial dosen't exist.\")\n",
    "    elif n == 0 :\n",
    "        print (\"Fatorial of 0 is 1.\")\n",
    "    elif n > 0 :\n",
    "        for i in range (1, n+1) :\n",
    "            facto = facto*i\n",
    "    else :\n",
    "        pass\n",
    "    return facto\n",
    "n = int(input((\"Enter the value of n = \")))\n",
    "print(\"Fatorial of \", n, \"is = \", fact_num(n))\n",
    "        "
   ]
  },
  {
   "cell_type": "code",
   "execution_count": 19,
   "id": "d8a9426f",
   "metadata": {},
   "outputs": [
    {
     "name": "stdout",
     "output_type": "stream",
     "text": [
      "Enter the fact_1 =5\n",
      "Enter the fact_2 =10\n",
      "5 x 1 = 5\n",
      "5 x 2 = 10\n",
      "5 x 3 = 15\n",
      "5 x 4 = 20\n",
      "5 x 5 = 25\n",
      "5 x 6 = 30\n",
      "5 x 7 = 35\n",
      "5 x 8 = 40\n",
      "5 x 9 = 45\n",
      "5 x 10 = 50\n"
     ]
    }
   ],
   "source": [
    "# 2. Write a Python Program to Display the multiplication Table?\n",
    "\n",
    "#answer\n",
    "\n",
    "def table(fact_1, fact_2) :\n",
    "    \"\"\"returns the multiplication table of fact_1 upto fact_2\"\"\"\n",
    "#     print(\"abc\")\n",
    "    if type(fact_1) == int and type(fact_2) == int :\n",
    "        for i in range(1, fact_2+1) :\n",
    "            multiple = fact_1*i\n",
    "            print(fact_1,\"x\",i, \"=\",multiple)\n",
    "    else :\n",
    "        print(\"Enter a valid inpiut\")\n",
    "    \n",
    "fact_1 = int(input(\"Enter the fact_1 =\"))\n",
    "fact_2 = int(input(\"Enter the fact_2 =\"))\n",
    "table(fact_1,fact_2)"
   ]
  },
  {
   "cell_type": "code",
   "execution_count": 3,
   "id": "7ff07ecc",
   "metadata": {},
   "outputs": [
    {
     "name": "stdout",
     "output_type": "stream",
     "text": [
      "Enter the value of n =23\n",
      "The fibonacci series is : \n",
      "0\n",
      "1\n",
      "1\n",
      "2\n",
      "3\n",
      "5\n",
      "8\n",
      "13\n",
      "21\n",
      "34\n",
      "55\n",
      "89\n",
      "144\n",
      "233\n",
      "377\n",
      "610\n",
      "987\n",
      "1597\n",
      "2584\n",
      "4181\n",
      "6765\n",
      "10946\n",
      "17711\n"
     ]
    }
   ],
   "source": [
    "#3. Write a Python Program to Print the Fibonacci sequence?\n",
    "\n",
    "#answer\n",
    "\n",
    "def fibo_series(n) :\n",
    "    n1 = 0\n",
    "    n2 = 1\n",
    "    count = 0\n",
    "    if n <= 0 :\n",
    "        print(\"Enter a valid input\")\n",
    "    elif n == 1 :\n",
    "        print(\"Fibonacci series is : \", n2)\n",
    "    else :\n",
    "        while count < n :\n",
    "            print(n1)\n",
    "            nth = n1 + n2 \n",
    "            n1 = n2 \n",
    "            n2 = nth\n",
    "            count += 1\n",
    "n = int(input(\"Enter the value of n =\"))\n",
    "print(\"The fibonacci series is : \")\n",
    "fibo_series(n)\n",
    "            "
   ]
  },
  {
   "cell_type": "code",
   "execution_count": 10,
   "id": "d4a567f6",
   "metadata": {},
   "outputs": [
    {
     "name": "stdout",
     "output_type": "stream",
     "text": [
      "Enter a Number:153\n",
      " 153 is an Armstrong number\n"
     ]
    }
   ],
   "source": [
    "# 4. Write a Python Program to Check Armstrong Number?\n",
    "\n",
    "#answer\n",
    "def amstrong_num(num) :\n",
    "    order = len(str(num))\n",
    "    temp = num;\n",
    "    sum = 0\n",
    "    while(temp>0):\n",
    "        digit =temp%10\n",
    "        sum += digit **order\n",
    "        temp = temp//10\n",
    "    if(sum==num):\n",
    "        print(\"\",num,\"is an Armstrong number\")\n",
    "    else:\n",
    "        print(\"\",num,\"is not an Armstrong number\")\n",
    "num = int(input(\"Enter a Number:\"))\n",
    "amstrong_num(num)\n",
    "# print (\"\",num,\"is an Armstrong number\")"
   ]
  },
  {
   "cell_type": "code",
   "execution_count": 11,
   "id": "f980cebd",
   "metadata": {},
   "outputs": [
    {
     "name": "stdout",
     "output_type": "stream",
     "text": [
      "Enter the lower bound150\n",
      "Enter the lower bound155\n",
      " 150 is not an Armstrong number\n",
      " 151 is not an Armstrong number\n",
      " 152 is not an Armstrong number\n",
      " 153 is an Armstrong number\n",
      " 154 is not an Armstrong number\n",
      " 155 is not an Armstrong number\n"
     ]
    }
   ],
   "source": [
    "# 5. Write a Python Program to Find Armstrong Number in an Interval?\n",
    "\n",
    "#answer\n",
    "\n",
    "def extract_amstrong(lower, upper) :\n",
    "    if type(lower)== int and type(upper) == int :\n",
    "        if upper > lower :\n",
    "            for i in range (lower, upper+1) :\n",
    "                amstrong_num(i)\n",
    "    return               \n",
    "lower = int(input(\"Enter the lower bound =\"))\n",
    "upper = int(input(\"Enter the lower bound = \"))\n",
    "extract_amstrong(lower, upper)\n",
    "    "
   ]
  },
  {
   "cell_type": "code",
   "execution_count": 1,
   "id": "e1eca2d2",
   "metadata": {},
   "outputs": [
    {
     "name": "stdout",
     "output_type": "stream",
     "text": [
      "Enter the value of n = 6\n",
      "The sum of  6 natural number is =  21.0\n"
     ]
    }
   ],
   "source": [
    "# 6. Write a Python Program to Find the Sum of Natural Numbers?\n",
    "\n",
    "#answer\n",
    "\n",
    "def sum_n_no(n):\n",
    "    \"\"\"Returns the sum of n Natural Number\n",
    "       takes only int type values \"\"\"\n",
    "    if n < 0 or n == 0 :\n",
    "        print(\"Please enter a valid input\")\n",
    "    else :\n",
    "        sum = (n*(n+1))/2\n",
    "        print(\"The sum of \", n, \"natural number is = \", sum)\n",
    "#     return sum #local variable 'sum' referenced before assignment\n",
    "n = int(input(\"Enter the value of n = \"))\n",
    "sum_n_no(n)\n",
    "# print(\"The sum of \", n, \"natural number is = \", sum_n_no(n)) "
   ]
  },
  {
   "cell_type": "code",
   "execution_count": 3,
   "id": "cb2c36fa",
   "metadata": {},
   "outputs": [],
   "source": [
    "l =[2,3,4]\n",
    "for i in l :\n",
    "    s = "
   ]
  },
  {
   "cell_type": "code",
   "execution_count": 6,
   "id": "f7a1a831",
   "metadata": {},
   "outputs": [
    {
     "name": "stdout",
     "output_type": "stream",
     "text": [
      "abc\n"
     ]
    },
    {
     "data": {
      "text/plain": [
       "NoneType"
      ]
     },
     "execution_count": 6,
     "metadata": {},
     "output_type": "execute_result"
    }
   ],
   "source": [
    "type(print(\"abc\"))"
   ]
  },
  {
   "cell_type": "code",
   "execution_count": 5,
   "id": "77f0b3e7",
   "metadata": {},
   "outputs": [],
   "source": [
    "fibo_series"
   ]
  },
  {
   "cell_type": "code",
   "execution_count": null,
   "id": "f6ebcbf2",
   "metadata": {},
   "outputs": [],
   "source": []
  },
  {
   "cell_type": "code",
   "execution_count": null,
   "id": "a48d0aaa",
   "metadata": {},
   "outputs": [],
   "source": []
  }
 ],
 "metadata": {
  "kernelspec": {
   "display_name": "Python 3 (ipykernel)",
   "language": "python",
   "name": "python3"
  },
  "language_info": {
   "codemirror_mode": {
    "name": "ipython",
    "version": 3
   },
   "file_extension": ".py",
   "mimetype": "text/x-python",
   "name": "python",
   "nbconvert_exporter": "python",
   "pygments_lexer": "ipython3",
   "version": "3.9.7"
  }
 },
 "nbformat": 4,
 "nbformat_minor": 5
}
