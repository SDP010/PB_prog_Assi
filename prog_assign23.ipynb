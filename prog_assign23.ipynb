{
 "cells": [
  {
   "cell_type": "code",
   "execution_count": 3,
   "id": "b84ab355",
   "metadata": {},
   "outputs": [],
   "source": [
    "\"\"\"Create a function that takes a number as an argument and returns True or False depending\n",
    "on whether the number is symmetrical or not. A number is symmetrical when it is the same as\n",
    "its reverse.\"\"\"\n",
    "\n",
    "def is_symmetrical(n):\n",
    "    s = str(n)\n",
    "    for i in range(len(s)):\n",
    "        if s[i] == s[len(s)-i-1] :\n",
    "            return True\n",
    "        else :\n",
    "            return False"
   ]
  },
  {
   "cell_type": "code",
   "execution_count": 4,
   "id": "b70ad64d",
   "metadata": {},
   "outputs": [
    {
     "data": {
      "text/plain": [
       "True"
      ]
     },
     "execution_count": 4,
     "metadata": {},
     "output_type": "execute_result"
    }
   ],
   "source": [
    "is_symmetrical(7227)"
   ]
  },
  {
   "cell_type": "code",
   "execution_count": 5,
   "id": "c3a967c8",
   "metadata": {},
   "outputs": [
    {
     "data": {
      "text/plain": [
       "False"
      ]
     },
     "execution_count": 5,
     "metadata": {},
     "output_type": "execute_result"
    }
   ],
   "source": [
    "is_symmetrical(12567)"
   ]
  },
  {
   "cell_type": "code",
   "execution_count": 1,
   "id": "7d80af25",
   "metadata": {},
   "outputs": [],
   "source": [
    "\"\"\"Given a string of numbers separated by a comma and space, return the product of the\n",
    "numbers.\"\"\"\n",
    "\n",
    "def multiply_nums(s) :\n",
    "    temp = s.split(',')\n",
    "    product = 1\n",
    "    for i in temp :\n",
    "        product = product * int(i)\n",
    "    return product"
   ]
  },
  {
   "cell_type": "code",
   "execution_count": 3,
   "id": "59e0b1fa",
   "metadata": {},
   "outputs": [
    {
     "data": {
      "text/plain": [
       "24"
      ]
     },
     "execution_count": 3,
     "metadata": {},
     "output_type": "execute_result"
    }
   ],
   "source": [
    "multiply_nums('1,2,3,4')"
   ]
  },
  {
   "cell_type": "code",
   "execution_count": 7,
   "id": "94c69e61",
   "metadata": {},
   "outputs": [],
   "source": [
    "\"\"\"Create a function that squares every digit of a number.\"\"\"\n",
    "\n",
    "def square_digits(n):\n",
    "    temp = str(n)\n",
    "    res = ''\n",
    "    for i in temp :\n",
    "        res = res + str(int(i)**2)\n",
    "    return res"
   ]
  },
  {
   "cell_type": "code",
   "execution_count": 9,
   "id": "d54d1627",
   "metadata": {},
   "outputs": [
    {
     "data": {
      "text/plain": [
       "'811181'"
      ]
     },
     "execution_count": 9,
     "metadata": {},
     "output_type": "execute_result"
    }
   ],
   "source": [
    "square_digits(9119)"
   ]
  },
  {
   "cell_type": "code",
   "execution_count": 10,
   "id": "f459569b",
   "metadata": {},
   "outputs": [],
   "source": [
    "\"\"\"Create a function that sorts a list and removes all duplicate items from it.\"\"\"\n",
    "\n",
    "def setify(l):\n",
    "    l.sort()\n",
    "    temp = set(l)\n",
    "    res =[]\n",
    "    for i in temp :\n",
    "        res.append(i)\n",
    "    return res"
   ]
  },
  {
   "cell_type": "code",
   "execution_count": 12,
   "id": "0b694308",
   "metadata": {},
   "outputs": [
    {
     "data": {
      "text/plain": [
       "[1, 2, 3]"
      ]
     },
     "execution_count": 12,
     "metadata": {},
     "output_type": "execute_result"
    }
   ],
   "source": [
    "setify([3,3,3,2,1])"
   ]
  },
  {
   "cell_type": "code",
   "execution_count": 13,
   "id": "a3ec8da6",
   "metadata": {},
   "outputs": [],
   "source": [
    "\"\"\"Create a function that returns the mean of all digits.\"\"\"\n",
    "\n",
    "def mean(n):\n",
    "    temp = str(n)\n",
    "    sum = 0\n",
    "    for i in temp:\n",
    "        sum = sum + int(i)\n",
    "    return sum/len(temp)"
   ]
  },
  {
   "cell_type": "code",
   "execution_count": 16,
   "id": "2c9237bd",
   "metadata": {},
   "outputs": [
    {
     "data": {
      "text/plain": [
       "3.0"
      ]
     },
     "execution_count": 16,
     "metadata": {},
     "output_type": "execute_result"
    }
   ],
   "source": [
    "mean(42)"
   ]
  },
  {
   "cell_type": "code",
   "execution_count": null,
   "id": "7b7a9e0a",
   "metadata": {},
   "outputs": [],
   "source": []
  }
 ],
 "metadata": {
  "kernelspec": {
   "display_name": "Python 3 (ipykernel)",
   "language": "python",
   "name": "python3"
  },
  "language_info": {
   "codemirror_mode": {
    "name": "ipython",
    "version": 3
   },
   "file_extension": ".py",
   "mimetype": "text/x-python",
   "name": "python",
   "nbconvert_exporter": "python",
   "pygments_lexer": "ipython3",
   "version": "3.9.7"
  }
 },
 "nbformat": 4,
 "nbformat_minor": 5
}
