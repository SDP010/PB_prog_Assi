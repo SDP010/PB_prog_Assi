{
 "cells": [
  {
   "cell_type": "code",
   "execution_count": 4,
   "id": "7baa2017",
   "metadata": {},
   "outputs": [
    {
     "name": "stdout",
     "output_type": "stream",
     "text": [
      "0 7 14 21 28 35 42 49 56 63 70 77 84 91 98 "
     ]
    }
   ],
   "source": [
    "#Q1. Class to iterate the numbers divisible by 7 with in a given range 0 and n\n",
    "\n",
    "class div :\n",
    "    \n",
    "    def __init__(self,n) :\n",
    "        self.n = n\n",
    "        \n",
    "    def div_seven(self) :\n",
    "        for i in range (self.n + 1):\n",
    "            if i % 7 == 0 :\n",
    "                print(i, end=\" \")\n",
    "\n",
    "x = div(100)\n",
    "x.div_seven()"
   ]
  },
  {
   "cell_type": "code",
   "execution_count": 7,
   "id": "d0f48e8b",
   "metadata": {},
   "outputs": [
    {
     "name": "stdout",
     "output_type": "stream",
     "text": [
      "Enter the string : New to Python or choosing between Python 2 and Python 3? Read Python 2 or Python 3.\n",
      "2 : 2\n",
      "3. : 1\n",
      "3? : 1\n",
      "New : 1\n",
      "Python : 5\n",
      "Read : 1\n",
      "and : 1\n",
      "between : 1\n",
      "choosing : 1\n",
      "or : 2\n",
      "to : 1\n"
     ]
    }
   ],
   "source": [
    "#Q.2\n",
    "\n",
    "def frqncy_count(s):\n",
    "    temp = s.split()\n",
    "    temp.sort()\n",
    "    d = {}\n",
    "    for i in temp:\n",
    "        n = temp.count(i)\n",
    "        d[i] = n\n",
    "    return d\n",
    "try :\n",
    "    string = input(\"Enter the string : \")\n",
    "    out = frqncy_count(string)\n",
    "    for i, j in out.items() :\n",
    "        print(f\"{i} : {j}\")\n",
    "except Exception as e :\n",
    "    print(e)"
   ]
  },
  {
   "cell_type": "code",
   "execution_count": 2,
   "id": "4771ee19",
   "metadata": {},
   "outputs": [
    {
     "name": "stdout",
     "output_type": "stream",
     "text": [
      "male\n",
      "female\n"
     ]
    }
   ],
   "source": [
    "#Q.3\n",
    "\n",
    "class person :\n",
    "    def getgender(self):\n",
    "        return self.gender\n",
    "    \n",
    "class male(person) :\n",
    "    def __init__(self) :\n",
    "        self.gender = \"male\"\n",
    "\n",
    "class female(person) :\n",
    "    def __init__(self) :\n",
    "        self.gender = \"female\"\n",
    "       \n",
    "    \n",
    "    \n",
    "p_1 = male()\n",
    "p_2 = female()\n",
    "print(p_1.getgender())\n",
    "print(p_2.getgender())"
   ]
  },
  {
   "cell_type": "code",
   "execution_count": 10,
   "id": "fe97130e",
   "metadata": {},
   "outputs": [
    {
     "name": "stdout",
     "output_type": "stream",
     "text": [
      "ENTER THE ELEMENTS SEPARATED WITH COMMA :\n",
      "xyz,1,5,7,2,subhra,9,8,12\n",
      "LIST AFTER SORTING : ['1', '12', '2', '5', '7', '8', '9', 'subhra', 'xyz']\n",
      "ENTER THE SEARCH ELEMENT : 9\n",
      "The element '9' in list ['1', '12', '2', '5', '7', '8', '9', 'subhra', 'xyz'] is at index 6\n"
     ]
    }
   ],
   "source": [
    "#Q.6 Binary search function which returns the index of the searched element in a sorted list\n",
    "\n",
    "def find_index(lst, ele) :\n",
    "    m = lst.index(ele)\n",
    "    return m\n",
    "\n",
    "l = [ i for i in input(\"ENTER THE ELEMENTS SEPARATED WITH COMMA :\\n\").split(',')]\n",
    "l.sort()\n",
    "print(\"LIST AFTER SORTING :\", l)\n",
    "n = input(\"ENTER THE SEARCH ELEMENT : \")\n",
    "result = find_index(l,n)\n",
    "print(f\"The element '{n}' in list {l} is at index {result}\")\n"
   ]
  },
  {
   "cell_type": "code",
   "execution_count": null,
   "id": "ddb0da9d",
   "metadata": {},
   "outputs": [],
   "source": []
  }
 ],
 "metadata": {
  "kernelspec": {
   "display_name": "Python 3 (ipykernel)",
   "language": "python",
   "name": "python3"
  },
  "language_info": {
   "codemirror_mode": {
    "name": "ipython",
    "version": 3
   },
   "file_extension": ".py",
   "mimetype": "text/x-python",
   "name": "python",
   "nbconvert_exporter": "python",
   "pygments_lexer": "ipython3",
   "version": "3.9.7"
  }
 },
 "nbformat": 4,
 "nbformat_minor": 5
}
