{
 "cells": [
  {
   "cell_type": "code",
   "execution_count": 1,
   "id": "d0f03b21",
   "metadata": {},
   "outputs": [
    {
     "name": "stdout",
     "output_type": "stream",
     "text": [
      "Hello Python\n"
     ]
    }
   ],
   "source": [
    "#q1.Printing Hello Python\n",
    "print(\"Hello Python\")"
   ]
  },
  {
   "cell_type": "code",
   "execution_count": 2,
   "id": "da1c40d9",
   "metadata": {},
   "outputs": [
    {
     "name": "stdout",
     "output_type": "stream",
     "text": [
      "Enter the value of a :5\n",
      "Enter the value of b :6\n",
      "Result of addition :  11.0\n",
      "Result of division :  0.8333333333333334\n"
     ]
    }
   ],
   "source": [
    "#q2.Doing addition and Division\n",
    "a=float(input(\"Enter the value of a :\"))\n",
    "b=float(input(\"Enter the value of b :\"))\n",
    "addition = a + b\n",
    "division = a / b\n",
    "print(\"Result of addition : \", addition)\n",
    "print(\"Result of division : \",division)"
   ]
  },
  {
   "cell_type": "code",
   "execution_count": 3,
   "id": "565a2c28",
   "metadata": {},
   "outputs": [
    {
     "name": "stdout",
     "output_type": "stream",
     "text": [
      "Enter the height of traingle : 10\n",
      "Enter the base of traingle : 5\n",
      "Area of the triangle is :  25.0\n"
     ]
    }
   ],
   "source": [
    "#q3.Finding area of a triangle given its heoght and base\n",
    "h = float(input(\"Enter the height of traingle : \"))\n",
    "b = float(input(\"Enter the base of traingle : \"))\n",
    "area = 0.5 * h * b\n",
    "print(\"Area of the triangle is : \",area)"
   ]
  },
  {
   "cell_type": "code",
   "execution_count": 7,
   "id": "0aeab881",
   "metadata": {},
   "outputs": [
    {
     "name": "stdout",
     "output_type": "stream",
     "text": [
      "Enter the value of a : 4\n",
      "Enter the value of b : 5\n",
      "Value of a after swaping :  5.0\n",
      "Value of b after swaping :  4.0\n"
     ]
    }
   ],
   "source": [
    "#q4.Swaping Values of two variables.\n",
    "a = float(input(\"Enter the value of a : \"))\n",
    "b = float (input(\"Enter the value of b : \"))\n",
    "#Method_1\n",
    "c=a\n",
    "a=b\n",
    "b=c\n",
    "#Method_2\n",
    "# c = a + b\n",
    "# a = c - a\n",
    "# b = c - b\n",
    "print(\"Value of a after swaping : \",a)\n",
    "print(\"Value of b after swaping : \",b)"
   ]
  },
  {
   "cell_type": "code",
   "execution_count": 11,
   "id": "a2a00fc1",
   "metadata": {},
   "outputs": [
    {
     "name": "stdout",
     "output_type": "stream",
     "text": [
      "Enter the start range : 5\n",
      "Enter the end range : 10\n",
      "Random number is :  8.5343542561831\n"
     ]
    }
   ],
   "source": [
    "#q5.Programme to generate a random number\n",
    "a= float(input(\"Enter the start range : \"))\n",
    "b= float(input(\"Enter the end range : \"))    \n",
    "import random\n",
    "# r = random.randint(a,b)\n",
    "r = random.uniform(a,b)\n",
    "print(\"Random number is : \", r)"
   ]
  },
  {
   "cell_type": "code",
   "execution_count": null,
   "id": "30d56e3f",
   "metadata": {},
   "outputs": [],
   "source": []
  }
 ],
 "metadata": {
  "kernelspec": {
   "display_name": "Python 3 (ipykernel)",
   "language": "python",
   "name": "python3"
  },
  "language_info": {
   "codemirror_mode": {
    "name": "ipython",
    "version": 3
   },
   "file_extension": ".py",
   "mimetype": "text/x-python",
   "name": "python",
   "nbconvert_exporter": "python",
   "pygments_lexer": "ipython3",
   "version": "3.9.7"
  }
 },
 "nbformat": 4,
 "nbformat_minor": 5
}
