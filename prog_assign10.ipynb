{
 "cells": [
  {
   "cell_type": "code",
   "execution_count": 46,
   "id": "d942e40c",
   "metadata": {},
   "outputs": [
    {
     "name": "stdout",
     "output_type": "stream",
     "text": [
      "Enter the number of elements in the list : 5\n",
      "1\n",
      "2\n",
      "3\n",
      "4\n",
      "5\n",
      "15\n"
     ]
    }
   ],
   "source": [
    "#1.  Python program to find sum of elements in list\n",
    "\n",
    "def sum_listelements(l) :\n",
    "    sum = 0\n",
    "    for i in range(0,len(l)):\n",
    "        sum = sum + l[i]\n",
    "    return sum\n",
    "\n",
    "try :\n",
    "    list = []\n",
    "    n = int(input(\"Enter the number of elements in the list : \"))\n",
    "    for i in range(n) :\n",
    "        list.append(int(input(f'element {i} = ')))\n",
    "    x = sum_listelements(list)\n",
    "    print(x)\n",
    "\n",
    "except Exception as e :\n",
    "    print(\"ERROR : \", e)\n",
    "\n",
    "\n"
   ]
  },
  {
   "cell_type": "code",
   "execution_count": 6,
   "id": "bdeffeb1",
   "metadata": {},
   "outputs": [
    {
     "name": "stdout",
     "output_type": "stream",
     "text": [
      "Enter the number of elements in the list : 3\n",
      "1\n",
      "2\n",
      "3\n",
      "product of all the elements of [1, 2, 3] is 6\n"
     ]
    }
   ],
   "source": [
    "#2. Python program to Multiply all numbers in the list\n",
    "\n",
    "def mul_listelements(l) :\n",
    "    result = 1\n",
    "    for i in range(0,len(l)):\n",
    "        result = result * l[i]\n",
    "    return result\n",
    "\n",
    "try :\n",
    "    list = []\n",
    "    n = int(input(\"Enter the number of elements in the list : \"))\n",
    "    for i in range(n) :\n",
    "        list.append(int(input(f'element {i} = ')))\n",
    "    x = mul_listelements(list)\n",
    "    print(f'product of all the elements of {list} is {x}')\n",
    "\n",
    "except Exception as e :\n",
    "    print(\"ERROR : \", e)\n"
   ]
  },
  {
   "cell_type": "code",
   "execution_count": 13,
   "id": "e2f6e167",
   "metadata": {},
   "outputs": [
    {
     "name": "stdout",
     "output_type": "stream",
     "text": [
      "Enter the number of elements in the list : 5\n",
      "10\n",
      "45\n",
      "2\n",
      "5\n",
      "7\n",
      "smallest of all the elements of [10, 45, 2, 5, 7] is 2\n"
     ]
    }
   ],
   "source": [
    "#3. Python program to find smallest number in a list\n",
    "\n",
    "def find_smallest(l) :\n",
    "    smallest = l[0]\n",
    "    for i in range(len(l)) :\n",
    "        if smallest > l[i] :\n",
    "            smallest = l[i]\n",
    "    return smallest\n",
    "\n",
    "\n",
    "try :\n",
    "    list = []\n",
    "    n = int(input(\"Enter the number of elements in the list : \"))\n",
    "    for i in range(n) :\n",
    "        list.append(int(input(f'element {i} = ')))\n",
    "    result = find_smallest(list)\n",
    "    print(f'smallest of all the elements of {list} is {result}')\n",
    "\n",
    "except Exception as e :\n",
    "    print(\"ERROR : \", e)\n"
   ]
  },
  {
   "cell_type": "code",
   "execution_count": 14,
   "id": "8719c9d5",
   "metadata": {},
   "outputs": [
    {
     "name": "stdout",
     "output_type": "stream",
     "text": [
      "Enter the number of elements in the list : 5\n",
      "1\n",
      "6\n",
      "10\n",
      "7\n",
      "11\n",
      "smallest of all the elements of [1, 6, 10, 7, 11] is 11\n"
     ]
    }
   ],
   "source": [
    "#4. Python program to find largest number in a list\n",
    "\n",
    "def find_largest(l) :\n",
    "    largest = l[0]\n",
    "    for i in range(len(l)) :\n",
    "        if largest < l[i] :\n",
    "            largest = l[i]\n",
    "    return largest\n",
    "\n",
    "try :\n",
    "    list = []\n",
    "    n = int(input(\"Enter the number of elements in the list : \"))\n",
    "    for i in range(n) :\n",
    "        list.append(int(input(f'element {i} = ')))\n",
    "    result = find_largest(list)\n",
    "    print(f'smallest of all the elements of {list} is {result}')\n",
    "\n",
    "except Exception as e :\n",
    "    print(\"ERROR : \", e)\n"
   ]
  },
  {
   "cell_type": "code",
   "execution_count": 45,
   "id": "272d0741",
   "metadata": {},
   "outputs": [
    {
     "name": "stdout",
     "output_type": "stream",
     "text": [
      "Enter the number of elements in the list : 5\n",
      "1\n",
      "2\n",
      "3\n",
      "5\n",
      "5\n",
      "Given list :  [1, 2, 3, 5, 5]\n",
      "second largest element is 3\n"
     ]
    }
   ],
   "source": [
    "#5. Python program to find second largest number in a list\n",
    "\n",
    "def find_largest(l) :\n",
    "    largest = l[0]\n",
    "    for i in range(len(l)) :\n",
    "        if largest < l[i] :\n",
    "            largest = l[i]\n",
    "    return largest\n",
    "\n",
    "def find_2ndlargest(l) :\n",
    "    x = find_largest(l)\n",
    "    n = l.count(x)\n",
    "    for i in range(n) :\n",
    "        l.remove(x)\n",
    "    x_1 = find_largest(l)\n",
    "    return x_1\n",
    "\n",
    "try :\n",
    "    list = []\n",
    "    n = int(input(\"Enter the number of elements in the list : \"))\n",
    "    for i in range(n) :\n",
    "        list.append(int(input(f'element {i} = ')))\n",
    "    print(\"Given list : \", list)\n",
    "    result = find_2ndlargest(list)\n",
    "    print(f'second largest element is {result}')\n",
    "\n",
    "except Exception as e :\n",
    "    print(\"ERROR : \", e)\n"
   ]
  },
  {
   "cell_type": "code",
   "execution_count": 52,
   "id": "9a8e377c",
   "metadata": {},
   "outputs": [
    {
     "name": "stdout",
     "output_type": "stream",
     "text": [
      "Enter the value of N : 3\n",
      "Enter the number of elements in the list : 10\n",
      "element 0 = 1\n",
      "element 1 = 2\n",
      "element 2 = 3\n",
      "element 3 = 4\n",
      "element 4 = 4\n",
      "element 5 = 4\n",
      "element 6 = 7\n",
      "element 7 = 7\n",
      "element 8 = 9\n",
      "element 9 = 9\n",
      "We have to find 3 largest elements from [1, 2, 3, 4, 4, 4, 7, 7, 9, 9]\n",
      "3 largest elements are : [9, 7, 4]\n"
     ]
    }
   ],
   "source": [
    "#6. Python program to find N largest elements from a list\n",
    "\n",
    "def find_largest(l) :\n",
    "    largest = l[0]\n",
    "    for i in range(len(l)) :\n",
    "        if largest < l[i] :\n",
    "            largest = l[i]\n",
    "    return largest\n",
    "\n",
    "def n_largestno(l,n) :\n",
    "    temp =[]\n",
    "    for i in range(n) :\n",
    "        largest = find_largest(l)\n",
    "        temp.append(largest)\n",
    "        for j in range (l.count(largest)):\n",
    "            l.remove(largest)\n",
    "    return temp\n",
    "\n",
    "try :\n",
    "    list = []\n",
    "    N = int(input(\"Enter the value of N : \"))\n",
    "    n = int(input(\"Enter the number of elements in the list : \"))\n",
    "    for i in range(n) :\n",
    "        list.append(int(input(f'element {i} = ')))\n",
    "    print(f'We have to find {N} largest elements from {list}')\n",
    "    result = n_largestno(list, N)\n",
    "    print(f'{N} largest elements are : {result}')\n",
    "\n",
    "except Exception as e :\n",
    "    print(\"ERROR : \", e)\n",
    "        \n"
   ]
  },
  {
   "cell_type": "code",
   "execution_count": 62,
   "id": "02a4e464",
   "metadata": {},
   "outputs": [
    {
     "name": "stdout",
     "output_type": "stream",
     "text": [
      "Enter the number of elements in the list : 6\n",
      "element 0 = 1\n",
      "element 1 = 2\n",
      "element 2 = 3\n",
      "element 3 = 4\n",
      "element 4 = 5\n",
      "element 5 = 6\n",
      "Even numbers from [1, 2, 3, 4, 5, 6] is [2, 4, 6]\n"
     ]
    }
   ],
   "source": [
    "#7. Python program to print even numbers in a list\n",
    "\n",
    "def find_even(l):\n",
    "    even = []\n",
    "    for i in l :\n",
    "        if i % 2 == 0 :\n",
    "            even.append(i)\n",
    "    return even\n",
    "\n",
    "try :\n",
    "    list = []\n",
    "    n = int(input(\"Enter the number of elements in the list : \"))\n",
    "    for i in range(n) :\n",
    "        list.append(int(input(f'element {i} = ')))\n",
    "    x = find_even(list)\n",
    "    print(f'Even numbers from {list} is {x}')\n",
    "\n",
    "except Exception as e :\n",
    "    print(\"ERROR : \", e)\n",
    "            "
   ]
  },
  {
   "cell_type": "code",
   "execution_count": 63,
   "id": "dbb4b46c",
   "metadata": {},
   "outputs": [
    {
     "name": "stdout",
     "output_type": "stream",
     "text": [
      "Enter the number of elements in the list : 6\n",
      "element 0 = 1\n",
      "element 1 = 2\n",
      "element 2 = 3\n",
      "element 3 = 4\n",
      "element 4 = 5\n",
      "element 5 = 6\n",
      "Odd numbers from [1, 2, 3, 4, 5, 6] is [1, 3, 5]\n"
     ]
    }
   ],
   "source": [
    "#8. Python program to print odd numbers in a list\n",
    "\n",
    "def find_odd(l):\n",
    "    odd = []\n",
    "    for i in l :\n",
    "        if i % 2 != 0 :\n",
    "            odd.append(i)\n",
    "    return odd\n",
    "\n",
    "try :\n",
    "    list = []\n",
    "    n = int(input(\"Enter the number of elements in the list : \"))\n",
    "    for i in range(n) :\n",
    "        list.append(int(input(f'element {i} = ')))\n",
    "    x = find_odd(list)\n",
    "    print(f'Odd numbers from {list} is {x}')\n",
    "\n",
    "except Exception as e :\n",
    "    print(\"ERROR : \", e)\n",
    "            "
   ]
  },
  {
   "cell_type": "code",
   "execution_count": 3,
   "id": "915f368e",
   "metadata": {},
   "outputs": [
    {
     "data": {
      "text/plain": [
       "[[1, 2], 'subhra', 12, (1, 2, 3), 15]"
      ]
     },
     "execution_count": 3,
     "metadata": {},
     "output_type": "execute_result"
    }
   ],
   "source": [
    "#9. Python program to Remove empty List from List\n",
    "\n",
    "def remove_emplist(l):\n",
    "    for i  in l:\n",
    "        if type(i)==list:\n",
    "            if len(i)==0:\n",
    "                l.remove(i)\n",
    "    return l\n",
    "remove_emplist([[1,2],\"subhra\", 12, [], (1,2,3),[],15])"
   ]
  },
  {
   "cell_type": "code",
   "execution_count": 7,
   "id": "97651310",
   "metadata": {},
   "outputs": [
    {
     "name": "stdout",
     "output_type": "stream",
     "text": [
      "Enter the number of elements in the list : 5\n",
      "element 0 = 1\n",
      "element 1 = 4\n",
      "element 2 = 6\n",
      "element 3 = 4\n",
      "element 4 = 7\n",
      "Clone list of [1, 4, 6, 4, 7] is [1, 4, 6, 4, 7]\n"
     ]
    }
   ],
   "source": [
    "#10. Python program to Cloning or Copying a list\n",
    "\n",
    "def clone_list(l):\n",
    "    clone = []\n",
    "    for i in l :\n",
    "        clone.append(i)\n",
    "    return clone\n",
    "\n",
    "try :\n",
    "    list = []\n",
    "    n = int(input(\"Enter the number of elements in the list : \"))\n",
    "    for i in range(n) :\n",
    "        list.append(int(input(f'element {i} = ')))\n",
    "    result = clone_list(list)\n",
    "    print(f'Clone list of {list} is {result}')\n",
    "\n",
    "except Exception as e :\n",
    "    print(\"ERROR : \", e)"
   ]
  },
  {
   "cell_type": "code",
   "execution_count": 16,
   "id": "beae5699",
   "metadata": {},
   "outputs": [
    {
     "name": "stdout",
     "output_type": "stream",
     "text": [
      "Enter the number of elements in the list : 10\n",
      "element 0 = 1\n",
      "element 1 = 3\n",
      "element 2 = 4\n",
      "element 3 = 5\n",
      "element 4 = 5\n",
      "element 5 = 5\n",
      "element 6 = 5\n",
      "element 7 = 5\n",
      "element 8 = 5\n",
      "element 9 = 6\n",
      "Enter the element to count : 5\n",
      "Occurance of 5 in [1, 3, 4, 5, 5, 5, 5, 5, 5, 6] is 6\n"
     ]
    }
   ],
   "source": [
    "#11. Python program to Count occurrences of an element in a list\n",
    "\n",
    "def count_ele(l,ele) :\n",
    "    sum = 0\n",
    "    for j in l :\n",
    "        if j == ele :\n",
    "            sum = sum + 1\n",
    "    return sum\n",
    "\n",
    "try :\n",
    "    list = []\n",
    "    n = int(input(\"Enter the number of elements in the list : \"))\n",
    "    for i in range(n) :\n",
    "        list.append(int(input(f'element {i} = ')))\n",
    "    ele = int(input(\"Enter the element to count : \"))\n",
    "    \n",
    "    if ele in list  :\n",
    "        result = count_ele(list,ele)\n",
    "    else :\n",
    "        print(f'{ele} is not in the list')\n",
    "   \n",
    "    print(f'Occurance of {ele} in {list} is {result}')\n",
    "\n",
    "except Exception as e :\n",
    "    print(\"ERROR : \", e)"
   ]
  }
 ],
 "metadata": {
  "kernelspec": {
   "display_name": "Python 3 (ipykernel)",
   "language": "python",
   "name": "python3"
  },
  "language_info": {
   "codemirror_mode": {
    "name": "ipython",
    "version": 3
   },
   "file_extension": ".py",
   "mimetype": "text/x-python",
   "name": "python",
   "nbconvert_exporter": "python",
   "pygments_lexer": "ipython3",
   "version": "3.9.7"
  }
 },
 "nbformat": 4,
 "nbformat_minor": 5
}
