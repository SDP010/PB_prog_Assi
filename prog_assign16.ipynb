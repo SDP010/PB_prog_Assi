{
 "cells": [
  {
   "cell_type": "code",
   "execution_count": 22,
   "id": "47db7ec1",
   "metadata": {},
   "outputs": [
    {
     "name": "stdout",
     "output_type": "stream",
     "text": [
      "Enter the word :incredible\n",
      "Output : 'in. . . in. . . incredible?'\n"
     ]
    }
   ],
   "source": [
    "\"\"\"Q1. Question1. Write a function that stutters a word as if someone is struggling to read it. The\n",
    "first two letters are repeated twice with an ellipsis ... and space after each, and then the\n",
    "word is pronounced with a question mark ?. \"\"\"\n",
    "\n",
    "def shutter(s) :\n",
    "    temp = s[0] + s[1] + \". . . \" +s[0] + s[1] + \". . . \" + s + \"?\"\n",
    "    return temp\n",
    "\n",
    "try :\n",
    "    s = input(\"Enter the word :\")\n",
    "    result = shutter(s)\n",
    "    print(f\"Output : '{result}'\")\n",
    "    \n",
    "except Exception as e :\n",
    "    print(e)"
   ]
  },
  {
   "cell_type": "code",
   "execution_count": 19,
   "id": "5afc4a42",
   "metadata": {},
   "outputs": [
    {
     "name": "stdout",
     "output_type": "stream",
     "text": [
      "Enter the angle value in radian : 20\n",
      "The value of 20.0 in degree (corrected upto two decimal places) is 1145.92\n"
     ]
    }
   ],
   "source": [
    "\"\"\"Question 2.Create a function that takes an angle in radians and returns the corresponding\n",
    "angle in degrees rounded to one decimal place.\"\"\"\n",
    "\n",
    "def rad_to_degree(r) :\n",
    "    import math as m\n",
    "    temp = m.degrees(r)\n",
    "    return round(temp, 2)\n",
    "try :\n",
    "    rad = float(input(\"Enter the angle value in radian : \"))\n",
    "    result = rad_to_degree(rad)\n",
    "    print(f\"The value of {rad} in degree (corrected upto two decimal places) is {result}\")\n",
    "    \n",
    "except Exception as e :\n",
    "    print(e)"
   ]
  },
  {
   "cell_type": "code",
   "execution_count": 33,
   "id": "c1975cea",
   "metadata": {},
   "outputs": [
    {
     "name": "stdout",
     "output_type": "stream",
     "text": [
      "Enter the number : 5\n",
      "True\n"
     ]
    }
   ],
   "source": [
    "\"\"\"Question 3. In this challenge, establish if a given integer num is a Curzon number. If 1 plus\n",
    "2 elevated to num is exactly divisible by 1 plus 2 multiplied by num, then num is a Curzon\n",
    "number.\n",
    "       Given a non-negative integer num, implement a function that returns True if num is a Curzon\n",
    "number, or False otherwise.\"\"\"\n",
    "\n",
    "\n",
    "def is_curzon(n) :\n",
    "    if (1 + 2**n ) % (1 + 2*n ) == 0 :\n",
    "        return True\n",
    "    else :\n",
    "        return False\n",
    "    \n",
    "try :\n",
    "    n = int(input(\"Enter the number : \"))\n",
    "    if n >= 0 :\n",
    "        print(is_curzon(n))\n",
    "    else :\n",
    "        raise Exception (\"Input must be non negetive\")\n",
    "\n",
    "except Exception as e :\n",
    "    print(e)"
   ]
  },
  {
   "cell_type": "code",
   "execution_count": 32,
   "id": "d1a2c276",
   "metadata": {},
   "outputs": [
    {
     "name": "stdout",
     "output_type": "stream",
     "text": [
      "Enter the length of side : 2\n",
      "Area of hexagon of side of length 2.0 is 10.4\n"
     ]
    }
   ],
   "source": [
    "\"\"\"Question 4.Given the side length x find the area of a hexagon.\"\"\"\n",
    "\n",
    "def area_of_hexagon(n) :\n",
    "    import math as m\n",
    "    a = (3*(3**0.5) * n**2)/2\n",
    "    return round(a ,1)\n",
    "\n",
    "try : \n",
    "    s = float(input(\"Enter the length of side : \"))\n",
    "    area = area_of_hexagon(s)\n",
    "    print(f\"Area of hexagon of side of length {s} is {area}\")\n",
    "\n",
    "except Exception as e :\n",
    "    print(e)"
   ]
  },
  {
   "cell_type": "code",
   "execution_count": 29,
   "id": "e087be95",
   "metadata": {},
   "outputs": [
    {
     "name": "stdout",
     "output_type": "stream",
     "text": [
      "Enter the base 10 value : 5\n",
      "Binary representation of 5 is = 101\n"
     ]
    }
   ],
   "source": [
    "\"\"\"Question 5. Create a function that returns a base-2 (binary) representation of a base-10\n",
    "(decimal) string number. To convert is simple: ((2) means base-2 and (10) means base-10)\n",
    "010101001(2) = 1 + 8 + 32 + 128.\n",
    "            Going from right to left, the value of the most right bit is 1, now from that every bit to the left\n",
    "will be x2 the value, value of an 8 bit binary numbers are (256, 128, 64, 32, 16, 8, 4, 2, 1).\"\"\"\n",
    "\n",
    "# USING INBUILT FUNCTION\n",
    "\n",
    "def dec_to_binary(n):\n",
    "    return int(bin(n)[2:])\n",
    "   \n",
    "try : \n",
    "    n = int(input(\"Enter the base 10 value : \"))\n",
    "    if n >= 1:\n",
    "        binary = dec_to_binary(n)\n",
    "        print(f\"Binary representation of {n} is = {binary}\")\n",
    "        \n",
    "    else :\n",
    "        raise Exception (\"Invalid input : (should be > 1)\")\n",
    "\n",
    "except Exception as e :\n",
    "    print(e)\n"
   ]
  },
  {
   "cell_type": "code",
   "execution_count": 31,
   "id": "d6315dee",
   "metadata": {},
   "outputs": [
    {
     "name": "stdout",
     "output_type": "stream",
     "text": [
      "Enter the base 10 value :\n",
      "5\n",
      "Binary representation of 5 is : \n",
      "0101"
     ]
    }
   ],
   "source": [
    "\"\"\"Question 5. Create a function that returns a base-2 (binary) representation of a base-10\n",
    "(decimal) string number. To convert is simple: ((2) means base-2 and (10) means base-10)\n",
    "010101001(2) = 1 + 8 + 32 + 128.\n",
    "            Going from right to left, the value of the most right bit is 1, now from that every bit to the left\n",
    "will be x2 the value, value of an 8 bit binary numbers are (256, 128, 64, 32, 16, 8, 4, 2, 1).\"\"\"\n",
    "\n",
    "# USING RECURSIVE FUNCTION\n",
    "\n",
    "def dec_to_binary(n) :\n",
    "    if n >= 1:\n",
    "        dec_to_binary(n//2)\n",
    "    print(n % 2, end='')\n",
    "\n",
    "try : \n",
    "    n = int(input(\"Enter the base 10 value :\\n\"))\n",
    "    if n >= 1:\n",
    "        print(f\"Binary representation of {n} is : \")\n",
    "        dec_to_binary(n)\n",
    "    else :\n",
    "        raise Exception (\"Invalid input : (should be > 1)\")\n",
    "\n",
    "except Exception as e :\n",
    "    print(e)"
   ]
  },
  {
   "cell_type": "code",
   "execution_count": null,
   "id": "4925c799",
   "metadata": {},
   "outputs": [],
   "source": []
  }
 ],
 "metadata": {
  "kernelspec": {
   "display_name": "Python 3 (ipykernel)",
   "language": "python",
   "name": "python3"
  },
  "language_info": {
   "codemirror_mode": {
    "name": "ipython",
    "version": 3
   },
   "file_extension": ".py",
   "mimetype": "text/x-python",
   "name": "python",
   "nbconvert_exporter": "python",
   "pygments_lexer": "ipython3",
   "version": "3.9.7"
  }
 },
 "nbformat": 4,
 "nbformat_minor": 5
}
