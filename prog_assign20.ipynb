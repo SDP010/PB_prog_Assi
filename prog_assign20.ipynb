{
 "cells": [
  {
   "cell_type": "code",
   "execution_count": 4,
   "id": "4a3405d3",
   "metadata": {},
   "outputs": [
    {
     "data": {
      "text/plain": [
       "[1, 2, 3, 4]"
      ]
     },
     "execution_count": 4,
     "metadata": {},
     "output_type": "execute_result"
    }
   ],
   "source": [
    "\"\"\"Create a function that takes a list of strings and integers, and filters out the list so that it\n",
    "returns a list of integers only.\"\"\"\n",
    "\n",
    "def filter_list(l) :\n",
    "    temp = []\n",
    "    for i in l :\n",
    "        if type(i) == int :\n",
    "            temp.append(i)\n",
    "    return temp\n",
    "\n",
    "filter_list([1, 2, 3, 'a', 'b', 4])"
   ]
  },
  {
   "cell_type": "code",
   "execution_count": 8,
   "id": "64f65e5d",
   "metadata": {},
   "outputs": [
    {
     "data": {
      "text/plain": [
       "[0, 1, 2, 3]"
      ]
     },
     "execution_count": 8,
     "metadata": {},
     "output_type": "execute_result"
    }
   ],
   "source": [
    "\"\"\"Given a list of numbers, create a function which returns the list but with each element's\n",
    "index in the list added to itself. This means you add 0 to the number at index 0, add 1 to the\n",
    "number at index 1, etc...\"\"\"\n",
    "\n",
    "def add_indexes(l):\n",
    "    temp = []\n",
    "    for i in range(len(l)) :\n",
    "        i = i + l[i]\n",
    "        temp.append(i)\n",
    "    return temp\n",
    "\n",
    "add_indexes([0,0,0,0])\n",
    "        "
   ]
  },
  {
   "cell_type": "code",
   "execution_count": 12,
   "id": "5a81d86b",
   "metadata": {},
   "outputs": [
    {
     "data": {
      "text/plain": [
       "12.57"
      ]
     },
     "execution_count": 12,
     "metadata": {},
     "output_type": "execute_result"
    }
   ],
   "source": [
    "\"\"\"Create a function that takes the height and radius of a cone as arguments and returns the\n",
    "volume of the cone rounded to the nearest hundredth. See the resources tab for the formula.\"\"\"\n",
    "\n",
    "def cone_volume(h,r):\n",
    "    vol = (1/3)*(22/7)*(r**2)*h\n",
    "    return round(vol, 2)\n",
    "\n",
    "cone_volume(3,2)"
   ]
  },
  {
   "cell_type": "code",
   "execution_count": 9,
   "id": "fc9b7309",
   "metadata": {},
   "outputs": [
    {
     "data": {
      "text/plain": [
       "4"
      ]
     },
     "execution_count": 9,
     "metadata": {},
     "output_type": "execute_result"
    }
   ],
   "source": [
    "\"\"\"Create a function that takes a list of numbers between 1 and 10 (excluding one number) and\n",
    "returns the missing number.\"\"\"\n",
    "\n",
    "l =[1,2,3,5,6,7,8,9,10]  #missing 4\n",
    "\n",
    "def missing_num(l):\n",
    "    for i in range(1, len(l)+1) :\n",
    "        if i not in l :\n",
    "            return i\n",
    "        \n",
    "missing_num(l)"
   ]
  },
  {
   "cell_type": "code",
   "execution_count": 12,
   "id": "c00da191",
   "metadata": {},
   "outputs": [
    {
     "data": {
      "text/plain": [
       "21"
      ]
     },
     "execution_count": 12,
     "metadata": {},
     "output_type": "execute_result"
    }
   ],
   "source": [
    "\"\"\"This Triangular Number Sequence is generated from a pattern of dots that form a triangle.\n",
    "The first 5 numbers of the sequence, or dots, are:\n",
    "1, 3, 6, 10, 15\n",
    "\n",
    "This means that the first triangle has just one dot, the second one has three dots, the third one\n",
    "has 6 dots and so on.\n",
    "\n",
    "Write a function that gives the number of dots with its corresponding triangle number of the\n",
    "sequence.\"\"\"\n",
    "\n",
    "def triangle(n):\n",
    "    sum = 0\n",
    "    for i in range (1, n+1):\n",
    "        sum = sum + i\n",
    "    return sum\n",
    "\n",
    "triangle(6)"
   ]
  },
  {
   "cell_type": "code",
   "execution_count": null,
   "id": "d67e551d",
   "metadata": {},
   "outputs": [],
   "source": []
  }
 ],
 "metadata": {
  "kernelspec": {
   "display_name": "Python 3 (ipykernel)",
   "language": "python",
   "name": "python3"
  },
  "language_info": {
   "codemirror_mode": {
    "name": "ipython",
    "version": 3
   },
   "file_extension": ".py",
   "mimetype": "text/x-python",
   "name": "python",
   "nbconvert_exporter": "python",
   "pygments_lexer": "ipython3",
   "version": "3.9.7"
  }
 },
 "nbformat": 4,
 "nbformat_minor": 5
}
