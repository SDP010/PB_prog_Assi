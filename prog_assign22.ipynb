{
 "cells": [
  {
   "cell_type": "code",
   "execution_count": 4,
   "id": "b050c9e7",
   "metadata": {},
   "outputs": [
    {
     "name": "stdout",
     "output_type": "stream",
     "text": [
      "Enter the value of x :1\n",
      "Enter the value of y :10\n",
      "Enter the value of n :2\n",
      "List of the number divisible by 2, between 1 and 10 is : [2, 4, 6, 8, 10]\n"
     ]
    }
   ],
   "source": [
    "\"\"\"Create a function that takes three parameters where:\n",
    "\n",
    "A.x is the start of the range (inclusive).\n",
    "B. y is the end of the range (inclusive).\n",
    "C. n is the divisor to be checked against.\n",
    "\n",
    "Return an ordered list with numbers in the range that are divisible by the third parameter n.\n",
    "Return an empty list if there are no numbers that are divisible by n.\"\"\"\n",
    "\n",
    "\n",
    "def list_operations(x,y,n):\n",
    "    div = []\n",
    "    for i in range(x, y+1):\n",
    "        if i % n == 0 :\n",
    "            div.append(i)\n",
    "    return div\n",
    "\n",
    "try :\n",
    "    lower = int(input(\"Enter the value of x :\"))\n",
    "    upper = int(input(\"Enter the value of y :\"))\n",
    "    divisor = int(input(\"Enter the value of n :\"))\n",
    "    result = list_operations(lower,upper,divisor)\n",
    "    print(f\"List of the number divisible by {divisor}, between {lower} and {upper} is : {result}\")\n",
    "\n",
    "except Exception as e :\n",
    "    print(e)"
   ]
  },
  {
   "cell_type": "code",
   "execution_count": 9,
   "id": "dc4b78dc",
   "metadata": {},
   "outputs": [
    {
     "data": {
      "text/plain": [
       "'CHLN'"
      ]
     },
     "execution_count": 9,
     "metadata": {},
     "output_type": "execute_result"
    }
   ],
   "source": [
    "\"\"\"A group of friends have decided to start a secret society. The name will be the first letter of\n",
    "each of their names, sorted in alphabetical order.\n",
    "Create a function that takes in a list of names and returns the name of the secret society.\"\"\"\n",
    "\n",
    "\n",
    "def society_name(l) :\n",
    "    l.sort()\n",
    "    name = ''\n",
    "    for i in l :\n",
    "        name = name + i[0]\n",
    "    return name\n",
    "\n",
    "society_name(['Harry', 'Newt', 'Luna', 'Cho'])"
   ]
  },
  {
   "cell_type": "code",
   "execution_count": 15,
   "id": "e351a218",
   "metadata": {},
   "outputs": [
    {
     "data": {
      "text/plain": [
       "False"
      ]
     },
     "execution_count": 15,
     "metadata": {},
     "output_type": "execute_result"
    }
   ],
   "source": [
    "\"\"\"An isogram is a word that has no duplicate letters. Create a function that takes a string and\n",
    "returns either True or False depending on whether or not it's anvisogram'.\"\"\"\n",
    "\n",
    "\n",
    "def check_isogram(string) : \n",
    "    flag = 0\n",
    "    for i in string :\n",
    "        if string.count(i)>1 :\n",
    "            flag = 1\n",
    "            break\n",
    "        if i.swapcase() in string :\n",
    "            flag = 2\n",
    "            break\n",
    "\n",
    "    if flag == 0 :\n",
    "        return True\n",
    "    else :\n",
    "        return False\n",
    "    \n",
    "check_isogram('PasSword')"
   ]
  },
  {
   "cell_type": "code",
   "execution_count": 19,
   "id": "b857531e",
   "metadata": {},
   "outputs": [],
   "source": [
    "\"\"\"Create a function that takes a string and returns True or False, depending on whether the\n",
    "characters are in order or not.\"\"\"\n",
    "\n",
    "\n",
    "def is_in_order(string):\n",
    "    temp = []\n",
    "    for i in string:\n",
    "        temp.append(i)\n",
    "    temp.sort()\n",
    "    s_1=''\n",
    "    for i in temp:\n",
    "        s_1 = s_1 +i\n",
    "    s_2=''\n",
    "    temp.sort(reverse=True)\n",
    "    for i in temp:\n",
    "        s_2 = s_2 + i\n",
    "    if string == s_1 or string == s_2:\n",
    "        return True\n",
    "    else:\n",
    "        return False"
   ]
  },
  {
   "cell_type": "code",
   "execution_count": 20,
   "id": "221a608d",
   "metadata": {},
   "outputs": [
    {
     "data": {
      "text/plain": [
       "True"
      ]
     },
     "execution_count": 20,
     "metadata": {},
     "output_type": "execute_result"
    }
   ],
   "source": [
    "is_in_order('123')"
   ]
  },
  {
   "cell_type": "code",
   "execution_count": 21,
   "id": "e600dbe4",
   "metadata": {},
   "outputs": [
    {
     "data": {
      "text/plain": [
       "False"
      ]
     },
     "execution_count": 21,
     "metadata": {},
     "output_type": "execute_result"
    }
   ],
   "source": [
    "is_in_order('edabit')"
   ]
  },
  {
   "cell_type": "code",
   "execution_count": null,
   "id": "57165871",
   "metadata": {},
   "outputs": [],
   "source": []
  }
 ],
 "metadata": {
  "kernelspec": {
   "display_name": "Python 3 (ipykernel)",
   "language": "python",
   "name": "python3"
  },
  "language_info": {
   "codemirror_mode": {
    "name": "ipython",
    "version": 3
   },
   "file_extension": ".py",
   "mimetype": "text/x-python",
   "name": "python",
   "nbconvert_exporter": "python",
   "pygments_lexer": "ipython3",
   "version": "3.9.7"
  }
 },
 "nbformat": 4,
 "nbformat_minor": 5
}
