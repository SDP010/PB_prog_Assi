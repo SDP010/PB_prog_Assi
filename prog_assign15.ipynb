{
 "cells": [
  {
   "cell_type": "code",
   "execution_count": 18,
   "id": "8b0de187",
   "metadata": {},
   "outputs": [
    {
     "name": "stdout",
     "output_type": "stream",
     "text": [
      "Enter the value of n : 100\n",
      "Numbers which are divisible by 5 and 7 b/w 0 and 100 is :\n",
      "0,35,70,"
     ]
    }
   ],
   "source": [
    "#Q1.\n",
    "\n",
    "def gen_div(n) :\n",
    "    for i in range(n + 1) :\n",
    "        if i % 5 == 0 and i % 7 == 0 :\n",
    "            yield i \n",
    "\n",
    "try :\n",
    "    num = int(input(\"Enter the value of n : \"))\n",
    "    result = gen_div(num)\n",
    "    print(f\"Numbers which are divisible by 5 and 7 b/w 0 and {num} is :\")\n",
    "    for i in result :\n",
    "        print(i , end = \",\")\n",
    "except  Exception as e :\n",
    "    print(e)"
   ]
  },
  {
   "cell_type": "code",
   "execution_count": 19,
   "id": "16afea45",
   "metadata": {},
   "outputs": [
    {
     "name": "stdout",
     "output_type": "stream",
     "text": [
      "Enter the value of n : 10\n",
      "Even numbers between 0 and 10 are :\n",
      "0,2,4,6,8,10,"
     ]
    }
   ],
   "source": [
    "#Q2. program to print the even numbers between range n in comma separated way.\n",
    "\n",
    "def gen_geteven(n) :\n",
    "    for i in range(n + 1) :\n",
    "        if i % 2 == 0 :\n",
    "            yield i \n",
    "\n",
    "try :\n",
    "    num = int(input(\"Enter the value of n : \"))\n",
    "    result = gen_geteven(num)\n",
    "    print(f\"Even numbers between 0 and {num} are :\")\n",
    "    for i in result :\n",
    "        print(i, end = \",\")\n",
    "except  Exception as e :\n",
    "    print(e)"
   ]
  },
  {
   "cell_type": "code",
   "execution_count": 17,
   "id": "7372085f",
   "metadata": {},
   "outputs": [
    {
     "name": "stdout",
     "output_type": "stream",
     "text": [
      "Enter the value of n :7\n",
      "Fibbonacci series of 7 numbers : \n",
      "0,1,1,2,3,5,8,13,"
     ]
    }
   ],
   "source": [
    "#Q3. find fibonacci series of n umbers using list comprehension\n",
    "\n",
    "def get_fibbo(n):\n",
    "    l = [0,1]\n",
    "    [l.append(l[-1] + l[-2]) for i in range(1,n)]\n",
    "    return l\n",
    "\n",
    "try :\n",
    "    num = int(input(\"Enter the value of n :\"))\n",
    "    result = get_fibbo(num)\n",
    "    print(f\"Fibbonacci series of {num} numbers : \")\n",
    "    for i in result :\n",
    "        print(i, end =\",\")\n",
    "except Exception as e :\n",
    "    print(e)\n",
    "    "
   ]
  },
  {
   "cell_type": "code",
   "execution_count": 2,
   "id": "08a928af",
   "metadata": {},
   "outputs": [
    {
     "name": "stdout",
     "output_type": "stream",
     "text": [
      "Enter the email-id : john@google.com\n",
      "The name in john@google.com is : john\n"
     ]
    }
   ],
   "source": [
    "#Q4. program to give output of the name in a email id.\n",
    "\n",
    "def get_name(s) :\n",
    "    temp = s.split(\"@\")\n",
    "    return temp\n",
    "\n",
    "try :\n",
    "    mail_id = input(\"Enter the email-id : \")\n",
    "    result = get_name(mail_id)\n",
    "    print (f\"The name in {mail_id} is : {result[0]}\")\n",
    "\n",
    "except Exception as e :\n",
    "    print(e)\n",
    "    "
   ]
  },
  {
   "cell_type": "code",
   "execution_count": 49,
   "id": "e8f614f6",
   "metadata": {},
   "outputs": [],
   "source": [
    "#Q5. \n",
    "\n",
    "class shape:\n",
    "    def __init__(self):\n",
    "        self.area=0\n",
    "    def get_area(self):\n",
    "        return self.area\n",
    "class square(shape):\n",
    "    def __init__(self, a, *args):\n",
    "        self.length = a\n",
    "        super(square,self).__init__(*args)\n",
    "    def get_area(self):\n",
    "        return (self.length)**2"
   ]
  },
  {
   "cell_type": "code",
   "execution_count": 50,
   "id": "11d5f782",
   "metadata": {},
   "outputs": [
    {
     "data": {
      "text/plain": [
       "0"
      ]
     },
     "execution_count": 50,
     "metadata": {},
     "output_type": "execute_result"
    }
   ],
   "source": [
    "a = shape()\n",
    "a.get_area()"
   ]
  },
  {
   "cell_type": "code",
   "execution_count": 51,
   "id": "7f8e98b7",
   "metadata": {},
   "outputs": [
    {
     "data": {
      "text/plain": [
       "4"
      ]
     },
     "execution_count": 51,
     "metadata": {},
     "output_type": "execute_result"
    }
   ],
   "source": [
    "a = square(2)\n",
    "a.get_area()\n",
    "4"
   ]
  },
  {
   "cell_type": "code",
   "execution_count": null,
   "id": "1e344988",
   "metadata": {},
   "outputs": [],
   "source": []
  }
 ],
 "metadata": {
  "kernelspec": {
   "display_name": "Python 3 (ipykernel)",
   "language": "python",
   "name": "python3"
  },
  "language_info": {
   "codemirror_mode": {
    "name": "ipython",
    "version": 3
   },
   "file_extension": ".py",
   "mimetype": "text/x-python",
   "name": "python",
   "nbconvert_exporter": "python",
   "pygments_lexer": "ipython3",
   "version": "3.9.7"
  }
 },
 "nbformat": 4,
 "nbformat_minor": 5
}
