{
 "cells": [
  {
   "cell_type": "code",
   "execution_count": 13,
   "id": "06be6c0e",
   "metadata": {},
   "outputs": [
    {
     "data": {
      "text/plain": [
       "[1, 2]"
      ]
     },
     "execution_count": 13,
     "metadata": {},
     "output_type": "execute_result"
    }
   ],
   "source": [
    "\"\"\"Create a function that takes a list of non-negative integers and strings and return a new list\n",
    "without the strings.\"\"\"\n",
    "\n",
    "def filter_list(s):\n",
    "    temp = []\n",
    "    for i in s :\n",
    "        if type(i) == int:\n",
    "            temp.append(i)\n",
    "    return temp\n",
    "\n",
    "filter_list([1, 2, 'a', 'b'])"
   ]
  },
  {
   "cell_type": "code",
   "execution_count": 14,
   "id": "7e25b0ef",
   "metadata": {},
   "outputs": [
    {
     "data": {
      "text/plain": [
       "'reSrEvEr'"
      ]
     },
     "execution_count": 14,
     "metadata": {},
     "output_type": "execute_result"
    }
   ],
   "source": [
    "\"\"\"The 'Reverser' takes a string as input and returns that string in reverse order, with the\n",
    "opposite case.\"\"\"\n",
    "\n",
    "def reverser(s):\n",
    "    s = s.swapcase()\n",
    "    temp =''\n",
    "    for i in range(len(s) + 1):\n",
    "        temp = temp + s[-i]\n",
    "    return temp\n",
    "\n",
    "reverser('ReVeRsE')"
   ]
  },
  {
   "cell_type": "code",
   "execution_count": 15,
   "id": "d4a34577",
   "metadata": {},
   "outputs": [
    {
     "name": "stdout",
     "output_type": "stream",
     "text": [
      "the lists are: \n",
      "w\n",
      "['r', 'i', 't', 'e', 'y', 'o', 'u', 'r', 'c', 'o', 'd', 'e', 'h', 'e', 'r']\n",
      "e\n"
     ]
    }
   ],
   "source": [
    "#Q3. unpack the given list in three parts: 1st, middle, last\n",
    "\n",
    "s='writeyourcodehere'\n",
    "l=list(s)\n",
    "first=[]\n",
    "middle=[]\n",
    "last=[]\n",
    "first=l[0]\n",
    "middle=l[1:-1]\n",
    "last=l[-1]\n",
    "print('the lists are: ')\n",
    "print(first)\n",
    "print(middle)\n",
    "print(last)"
   ]
  },
  {
   "cell_type": "code",
   "execution_count": 19,
   "id": "bb49aea9",
   "metadata": {},
   "outputs": [
    {
     "name": "stdout",
     "output_type": "stream",
     "text": [
      "Enter the value of n : 5\n",
      "Factorial of 5 is 120 \n"
     ]
    }
   ],
   "source": [
    "\"\"\"Write a function that calculates the factorial of a number recursively.\"\"\"\n",
    "\n",
    "def factorial(n):\n",
    "    if n == 0 or n == 1 :\n",
    "        return 1\n",
    "    else :\n",
    "        return ( n * factorial(n - 1))\n",
    "\n",
    "try :\n",
    "    num = int(input(\"Enter the value of n : \"))\n",
    "    result = factorial(num)\n",
    "    print(f\"Factorial of {num} is {result} \")\n",
    "\n",
    "except Exception as e :\n",
    "    print(e)"
   ]
  },
  {
   "cell_type": "code",
   "execution_count": 6,
   "id": "05b77d2a",
   "metadata": {},
   "outputs": [
    {
     "data": {
      "text/plain": [
       "['b', 'a', 'a', 'a', 'a']"
      ]
     },
     "execution_count": 6,
     "metadata": {},
     "output_type": "execute_result"
    }
   ],
   "source": [
    "\"\"\"Write a function that moves all elements of one type to the end of the list.\"\"\"\n",
    "\n",
    "def  move_to_end(l,n):\n",
    "    for i in l :\n",
    "        if i == n :\n",
    "            l.remove(n)\n",
    "            l.append(n)\n",
    "    return l\n",
    "\n",
    "move_to_end([7,8,9,1,2,3,4],9)\n",
    "move_to_end(['a','a','a','a','b'],'a')"
   ]
  },
  {
   "cell_type": "code",
   "execution_count": null,
   "id": "ffd71e99",
   "metadata": {},
   "outputs": [],
   "source": []
  }
 ],
 "metadata": {
  "kernelspec": {
   "display_name": "Python 3 (ipykernel)",
   "language": "python",
   "name": "python3"
  },
  "language_info": {
   "codemirror_mode": {
    "name": "ipython",
    "version": 3
   },
   "file_extension": ".py",
   "mimetype": "text/x-python",
   "name": "python",
   "nbconvert_exporter": "python",
   "pygments_lexer": "ipython3",
   "version": "3.9.7"
  }
 },
 "nbformat": 4,
 "nbformat_minor": 5
}
