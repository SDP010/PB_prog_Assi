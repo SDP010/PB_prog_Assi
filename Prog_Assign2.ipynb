{
 "cells": [
  {
   "cell_type": "code",
   "execution_count": 4,
   "id": "6a5b1bc1",
   "metadata": {},
   "outputs": [
    {
     "name": "stdout",
     "output_type": "stream",
     "text": [
      "Enter the value in KM = 8\n",
      "The required value in miles is =  5.0\n"
     ]
    }
   ],
   "source": [
    "#1. Write a Python program to convert kilometers to miles?\n",
    "km = float(input(\"Enter the value in KM = \"))\n",
    "miles = (5/8)*km\n",
    "print(\"The required value in miles is = \", miles)"
   ]
  },
  {
   "cell_type": "code",
   "execution_count": 5,
   "id": "d8bb1269",
   "metadata": {},
   "outputs": [
    {
     "name": "stdout",
     "output_type": "stream",
     "text": [
      "Enter the temp in celcius15\n",
      "Temp in Farenhite =  59.0\n"
     ]
    }
   ],
   "source": [
    "#2. Write a Python program to convert Celsius to Fahrenheit?\n",
    "c = float(input(\"Enter the temp in celcius\"))\n",
    "f = (9*c)/5 + 32\n",
    "print(\"Temp in Farenhite = \", f)"
   ]
  },
  {
   "cell_type": "code",
   "execution_count": 7,
   "id": "75cb82cc",
   "metadata": {},
   "outputs": [
    {
     "name": "stdout",
     "output_type": "stream",
     "text": [
      "Enter the year = 2022\n",
      "Enter the month =3\n",
      "     March 2022\n",
      "Mo Tu We Th Fr Sa Su\n",
      "    1  2  3  4  5  6\n",
      " 7  8  9 10 11 12 13\n",
      "14 15 16 17 18 19 20\n",
      "21 22 23 24 25 26 27\n",
      "28 29 30 31\n",
      "\n"
     ]
    }
   ],
   "source": [
    "# 3. Write a Python program to display calendar?\n",
    "import calendar \n",
    "year  = int(input(\"Enter the year = \"))\n",
    "month  = int(input(\"Enter the month =\"))\n",
    "print(calendar.month(year, month))\n"
   ]
  },
  {
   "cell_type": "code",
   "execution_count": 10,
   "id": "8636a648",
   "metadata": {},
   "outputs": [
    {
     "name": "stdout",
     "output_type": "stream",
     "text": [
      "Enter the value of a = 1\n",
      "Enter the value of b = 4\n",
      "Enter the value of c = 2\n",
      "The roots are =  (-0.5857864376269049+0j) and (-3.414213562373095+0j)\n"
     ]
    }
   ],
   "source": [
    "# 4. Write a Python program to solve quadratic equation\n",
    "a = float(input(\"Enter the value of a = \"))\n",
    "b = float(input(\"Enter the value of b = \"))\n",
    "c = float(input(\"Enter the value of c = \"))\n",
    "import cmath\n",
    "dis = (b**2) - 4*a*c\n",
    "root_1 = (-b + cmath.sqrt(dis))/(2*a)\n",
    "root_2 = (-b - cmath.sqrt(dis))/(2*a)\n",
    "print(\"The roots are = \", root_1, \"and\", root_2)"
   ]
  },
  {
   "cell_type": "code",
   "execution_count": 11,
   "id": "93b11eaf",
   "metadata": {},
   "outputs": [
    {
     "name": "stdout",
     "output_type": "stream",
     "text": [
      "Enter the value of a : 4\n",
      "Enter the value of b : 6\n",
      "Value of a after swaping :  6.0\n",
      "Value of b after swaping :  4.0\n"
     ]
    }
   ],
   "source": [
    "# 5. Write a Python program to swap two variables without temp variable?\n",
    "#Method_1\n",
    "a = float(input(\"Enter the value of a : \"))\n",
    "b = float (input(\"Enter the value of b : \"))\n",
    "c=a\n",
    "a=b\n",
    "b=c\n",
    "print(\"Value of a after swaping : \",a)\n",
    "print(\"Value of b after swaping : \",b)"
   ]
  },
  {
   "cell_type": "code",
   "execution_count": null,
   "id": "fae44869",
   "metadata": {},
   "outputs": [],
   "source": []
  }
 ],
 "metadata": {
  "kernelspec": {
   "display_name": "Python 3 (ipykernel)",
   "language": "python",
   "name": "python3"
  },
  "language_info": {
   "codemirror_mode": {
    "name": "ipython",
    "version": 3
   },
   "file_extension": ".py",
   "mimetype": "text/x-python",
   "name": "python",
   "nbconvert_exporter": "python",
   "pygments_lexer": "ipython3",
   "version": "3.9.7"
  }
 },
 "nbformat": 4,
 "nbformat_minor": 5
}
