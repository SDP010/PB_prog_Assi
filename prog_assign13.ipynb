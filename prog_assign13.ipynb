{
 "cells": [
  {
   "cell_type": "code",
   "execution_count": 14,
   "id": "25895027",
   "metadata": {},
   "outputs": [
    {
     "name": "stdout",
     "output_type": "stream",
     "text": [
      "Input : 100,150,180\n",
      "18,22,24,"
     ]
    }
   ],
   "source": [
    "#Q.1\n",
    "\n",
    "def calc_value(D) :\n",
    "    d = D\n",
    "    C,H = 50,30\n",
    "    q =((2 * C * d)/H)**(1/2)\n",
    "    return int(q)\n",
    "\n",
    "d1, d2, d3 = [int(i) for i in input(\"Input : \").split(',')]\n",
    "l = [d1,d2,d3]\n",
    "l1 =[]\n",
    "\n",
    "for j in l :\n",
    "    result = calc_value(j)\n",
    "    l1.append(result)\n",
    "    \n",
    "for k in l1 :\n",
    "    print(k , end =\",\" )\n",
    "    "
   ]
  },
  {
   "cell_type": "code",
   "execution_count": 19,
   "id": "2beadd92",
   "metadata": {},
   "outputs": [
    {
     "name": "stdout",
     "output_type": "stream",
     "text": [
      "enter the value of X :3\n",
      "enter the value of Y :5\n",
      "Two dimensional array is : [[0, 0, 0, 0, 0], [0, 1, 2, 3, 4], [0, 2, 4, 6, 8]]\n"
     ]
    }
   ],
   "source": [
    "#Q2.\n",
    "\n",
    "#function to create the array\n",
    "def print_array(x,y) :\n",
    "    array = []\n",
    "    for i in range(x) :\n",
    "        row = []\n",
    "        for j in range(y):\n",
    "            row.append(i*j)\n",
    "        array.append(row)\n",
    "    return array\n",
    "\n",
    "#taking input from user\n",
    "input_1 = int(input('enter the value of X :'))\n",
    "input_2 = int(input('enter the value of Y :'))\n",
    "\n",
    "#printing the array\n",
    "result = print_array(input_1,input_2)\n",
    "print(f\"Two dimensional array is : {result}\")"
   ]
  },
  {
   "cell_type": "code",
   "execution_count": 26,
   "id": "3004bf09",
   "metadata": {
    "scrolled": true
   },
   "outputs": [
    {
     "name": "stdout",
     "output_type": "stream",
     "text": [
      "ENTER THE WORDS SEPARATED WITH COMMA :\n",
      "without,hello,bag,world\n",
      "WORDS AFTER SORTING ALPHABETICALLY ARE : \n",
      "bag,hello,without,world,"
     ]
    }
   ],
   "source": [
    "#Q3.\n",
    "\n",
    "values =[str(i) for i in input(\"ENTER THE WORDS SEPARATED WITH COMMA :\\n\").split(',')]\n",
    "values.sort()\n",
    "print(\"WORDS AFTER SORTING ALPHABETICALLY ARE : \")\n",
    "for i in values :\n",
    "    print(i, end =\",\" )"
   ]
  },
  {
   "cell_type": "code",
   "execution_count": 2,
   "id": "eb1e59d6",
   "metadata": {},
   "outputs": [
    {
     "name": "stdout",
     "output_type": "stream",
     "text": [
      "INPUT :\n",
      "hello world and practice makes perfect and hello world again\n",
      "OUTPUT :\n",
      "again and hello makes perfect practice world "
     ]
    }
   ],
   "source": [
    "#Q4.\n",
    "\n",
    "def dupli_sorting(value) :\n",
    "    l = value\n",
    "    for i in l:\n",
    "        if l.count(i)>1:\n",
    "            for j in range(l.count(i)-1):\n",
    "                l.remove(i)\n",
    "    l.sort()\n",
    "    return l\n",
    "    \n",
    "    \n",
    "Input =[str(i) for i in input(\"INPUT :\\n\").split(' ')]\n",
    "result = dupli_sorting(Input)\n",
    "print(\"OUTPUT :\")\n",
    "for i in result :\n",
    "    print(i, end=\" \")"
   ]
  },
  {
   "cell_type": "code",
   "execution_count": 7,
   "id": "20d9dace",
   "metadata": {},
   "outputs": [
    {
     "name": "stdout",
     "output_type": "stream",
     "text": [
      "Enter the string : hello world! 123\n",
      "Number of alphabets is 10 and diigts is 3\n"
     ]
    }
   ],
   "source": [
    "#Q5\n",
    "\n",
    "def count_alpha_digit(s) :\n",
    "    temp_s = s\n",
    "    letter = 0\n",
    "    digit = 0\n",
    "    for i in range(len(temp_s)) :\n",
    "        if (temp_s[i].isalpha()) :\n",
    "            letter = letter + 1\n",
    "        elif (temp_s[i].isdigit()):\n",
    "            digit = digit + 1\n",
    "    return letter, digit\n",
    "\n",
    "string = input(\"Enter the string : \")\n",
    "result = count_alpha_digit(string)\n",
    "print(f\"Number of alphabets is {result[0]} and diigts is {result[1]}\")"
   ]
  },
  {
   "cell_type": "code",
   "execution_count": 9,
   "id": "661f7ba9",
   "metadata": {},
   "outputs": [
    {
     "name": "stdout",
     "output_type": "stream",
     "text": [
      "Input your passwards separated by comma :\n",
      "ABd1234@1,a F1#,2w3E*,2We3345\n",
      "valid password from ['ABd1234@1', 'a F1#', '2w3E*', '2We3345'] is ABd1234@1\n"
     ]
    }
   ],
   "source": [
    "#Q6\n",
    "\n",
    "s =[str(i) for i in input(\"Input your passwards separated by comma :\\n\").split(',')]\n",
    "l, u, p, d = 0, 0, 0, 0\n",
    "\n",
    "for i in s :\n",
    "    if (len(i) >= 6 and len(i) <= 12):\n",
    "        for j in i:\n",
    "\n",
    "            if (j.islower()):\n",
    "                l = l + 1\n",
    "\n",
    "            if (j.isupper()):\n",
    "                u = u + 1\n",
    "\n",
    "            if (j.isdigit()):\n",
    "                d = d + 1\n",
    "\n",
    "            if(j=='@'or j=='$' or j=='$'):\n",
    "                p = p + 1\n",
    "    if (l>=1 and u>=1 and p>=1 and d>=1 ):\n",
    "        print(f\"valid password from {s} is {i}\")\n",
    "        break"
   ]
  },
  {
   "cell_type": "code",
   "execution_count": null,
   "id": "999018f2",
   "metadata": {},
   "outputs": [],
   "source": []
  }
 ],
 "metadata": {
  "kernelspec": {
   "display_name": "Python 3 (ipykernel)",
   "language": "python",
   "name": "python3"
  },
  "language_info": {
   "codemirror_mode": {
    "name": "ipython",
    "version": 3
   },
   "file_extension": ".py",
   "mimetype": "text/x-python",
   "name": "python",
   "nbconvert_exporter": "python",
   "pygments_lexer": "ipython3",
   "version": "3.9.7"
  }
 },
 "nbformat": 4,
 "nbformat_minor": 5
}
