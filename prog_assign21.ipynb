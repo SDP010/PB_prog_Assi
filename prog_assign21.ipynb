{
 "cells": [
  {
   "cell_type": "code",
   "execution_count": 15,
   "id": "3052e0f8",
   "metadata": {},
   "outputs": [
    {
     "data": {
      "text/plain": [
       "[6, 7, 8, 9, 1]"
      ]
     },
     "execution_count": 15,
     "metadata": {},
     "output_type": "execute_result"
    }
   ],
   "source": [
    "\"\"\"Write a function that takes a list and a number as arguments. Add the number to the end of\n",
    "the list, then remove the first element of the list. The function should then return the updated\n",
    "list.\"\"\"\n",
    "\n",
    "def next_in_line(l,n) :\n",
    "    l.append(n)\n",
    "    l.pop(0)\n",
    "    return l\n",
    "\n",
    "next_in_line([5,6,7,8,9], 1)"
   ]
  },
  {
   "cell_type": "code",
   "execution_count": 16,
   "id": "523f3690",
   "metadata": {},
   "outputs": [
    {
     "data": {
      "text/plain": [
       "65700"
      ]
     },
     "execution_count": 16,
     "metadata": {},
     "output_type": "execute_result"
    }
   ],
   "source": [
    "\"\"\"Create the function that takes a list of dictionaries and returns the sum of people's budgets.\"\"\"\n",
    "\n",
    "def get_budgets(l):\n",
    "    budget = 0\n",
    "    for i in l :\n",
    "        budget = budget + i['budget']\n",
    "    return budget\n",
    "        \n",
    "l = [\n",
    "    { 'name': 'John', 'age': 21, 'budget': 23000 },\n",
    "    { 'name': 'Steve', 'age': 32, 'budget': 40000 },\n",
    "    { 'name': 'Martin', 'age': 16, 'budget': 2700 }\n",
    "    ] \n",
    "\n",
    "get_budgets(l)"
   ]
  },
  {
   "cell_type": "code",
   "execution_count": 17,
   "id": "4125d603",
   "metadata": {},
   "outputs": [
    {
     "data": {
      "text/plain": [
       "'ehllo'"
      ]
     },
     "execution_count": 17,
     "metadata": {},
     "output_type": "execute_result"
    }
   ],
   "source": [
    "\"\"\"Create a function that takes a string and returns a string with its letters in alphabetical order.\"\"\"\n",
    "\n",
    "def alphabet_soup(s) :\n",
    "    temp = []\n",
    "    string =''\n",
    "    for i in s :\n",
    "        temp.append(i)\n",
    "    temp.sort()\n",
    "    for j in temp:\n",
    "        string = string + j\n",
    "    return string\n",
    "\n",
    "alphabet_soup('hello')\n",
    "    "
   ]
  },
  {
   "cell_type": "code",
   "execution_count": 18,
   "id": "cb55059b",
   "metadata": {},
   "outputs": [
    {
     "data": {
      "text/plain": [
       "[9, 2, 16]"
      ]
     },
     "execution_count": 18,
     "metadata": {},
     "output_type": "execute_result"
    }
   ],
   "source": [
    "\"\"\"Write a function that takes a list of elements and returns only the integers.\"\"\"\n",
    "\n",
    "def return_only_integer(l):\n",
    "    int_list = []\n",
    "    for i in l :\n",
    "        if type(i) == int :\n",
    "            int_list.append(i)\n",
    "    return int_list\n",
    "\n",
    "return_only_integer([9,2,'space', 'car', 'lion', 16])\n",
    "        "
   ]
  },
  {
   "cell_type": "code",
   "execution_count": 21,
   "id": "e6ad84c2",
   "metadata": {},
   "outputs": [
    {
     "data": {
      "text/plain": [
       "18193.97"
      ]
     },
     "execution_count": 21,
     "metadata": {},
     "output_type": "execute_result"
    }
   ],
   "source": [
    "\"\"\"Suppose that you invest $10,000 for 10 years at an interest rate of 6% compounded monthly.\n",
    "What will be the value of your investment at the end of the 10 year period?\n",
    "\n",
    "Create a function that accepts the principal p, the term in years t, the interest rate r, and the\n",
    "number of compounding periods per year n. The function returns the value at the end of term\n",
    "rounded to the nearest cent.\"\"\"\n",
    "\n",
    "def compound_interest(p,r,t,n):\n",
    "    A = p*((1 + (r/12))**(n*t))\n",
    "    return round(A,2)\n",
    "\n",
    "compound_interest(10000, 0.06, 10, 12)"
   ]
  },
  {
   "cell_type": "code",
   "execution_count": null,
   "id": "73e0a0f1",
   "metadata": {},
   "outputs": [],
   "source": []
  }
 ],
 "metadata": {
  "kernelspec": {
   "display_name": "Python 3 (ipykernel)",
   "language": "python",
   "name": "python3"
  },
  "language_info": {
   "codemirror_mode": {
    "name": "ipython",
    "version": 3
   },
   "file_extension": ".py",
   "mimetype": "text/x-python",
   "name": "python",
   "nbconvert_exporter": "python",
   "pygments_lexer": "ipython3",
   "version": "3.9.7"
  }
 },
 "nbformat": 4,
 "nbformat_minor": 5
}
