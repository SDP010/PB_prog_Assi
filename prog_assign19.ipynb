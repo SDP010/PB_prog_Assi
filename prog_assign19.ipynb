{
 "cells": [
  {
   "cell_type": "code",
   "execution_count": 6,
   "id": "cbf9f81e",
   "metadata": {},
   "outputs": [
    {
     "data": {
      "text/plain": [
       "'hheelllloo  wwoorrlldd'"
      ]
     },
     "execution_count": 6,
     "metadata": {},
     "output_type": "execute_result"
    }
   ],
   "source": [
    "\"\"\"Create a function that takes a string and returns a string in which each character is repeated\n",
    "once.\"\"\"\n",
    "\n",
    "def double_char(s) :\n",
    "    temp = \"\"\n",
    "    for i in s :\n",
    "        temp = temp + i*2\n",
    "    return temp\n",
    "\n",
    "double_char('hello world')"
   ]
  },
  {
   "cell_type": "code",
   "execution_count": 20,
   "id": "ef8d3972",
   "metadata": {},
   "outputs": [
    {
     "data": {
      "text/plain": [
       "'Boolean Expected'"
      ]
     },
     "execution_count": 20,
     "metadata": {},
     "output_type": "execute_result"
    }
   ],
   "source": [
    "\"\"\"Create a function that reverses a boolean value and returns the string &quot;boolean expected&quot;\n",
    "if another variable type is given.\"\"\"\n",
    "\n",
    "def reverse(b):\n",
    "    if type(b) == bool :\n",
    "        if b == True :\n",
    "            return False\n",
    "        elif b == False :\n",
    "            return True\n",
    "    else :\n",
    "        return \"Boolean Expected\"\n",
    "\n",
    "reverse(0)"
   ]
  },
  {
   "cell_type": "code",
   "execution_count": 27,
   "id": "416a2f71",
   "metadata": {},
   "outputs": [
    {
     "data": {
      "text/plain": [
       "0.008"
      ]
     },
     "execution_count": 27,
     "metadata": {},
     "output_type": "execute_result"
    }
   ],
   "source": [
    "\"\"\"Create a function that returns the thickness (in meters) of a piece of paper after folding it n\n",
    "number of times. The paper starts off with a thickness of 0.5mm.\"\"\"\n",
    "\n",
    "def num_layers(n) :\n",
    "    ini = 0.5\n",
    "    for i in range(n):\n",
    "        ini = ini*2\n",
    "    result = ini / 1000\n",
    "    return result\n",
    "\n",
    "num_layers(4)"
   ]
  },
  {
   "cell_type": "code",
   "execution_count": 44,
   "id": "0e475f79",
   "metadata": {},
   "outputs": [
    {
     "name": "stdout",
     "output_type": "stream",
     "text": [
      "[1, 3, 4, 6]\n"
     ]
    }
   ],
   "source": [
    "\"\"\"Create a function that takes a single string as argument and returns an ordered list containing\n",
    "the indices of all capital letters in the string.\"\"\"\n",
    "\n",
    "def index_of_caps(s):\n",
    "    temp = []\n",
    "    for i in range(len(s)):\n",
    "        if s[i].isupper() == True :\n",
    "            temp.append(i)\n",
    "    return temp\n",
    "\n",
    "print(index_of_caps('eQuINoX'))\n"
   ]
  },
  {
   "cell_type": "code",
   "execution_count": 47,
   "id": "aa449c1a",
   "metadata": {},
   "outputs": [
    {
     "data": {
      "text/plain": [
       "[2, 4, 6, 8]"
      ]
     },
     "execution_count": 47,
     "metadata": {},
     "output_type": "execute_result"
    }
   ],
   "source": [
    "\"\"\"Using list comprehensions, create a function that finds all even numbers from 1 to the given\n",
    "number.\"\"\"\n",
    "\n",
    "def find_even_nums(n) :\n",
    "    return [i for i in range(1, n+1) if i % 2 == 0]\n",
    "\n",
    "find_even_nums(8)"
   ]
  }
 ],
 "metadata": {
  "kernelspec": {
   "display_name": "Python 3 (ipykernel)",
   "language": "python",
   "name": "python3"
  },
  "language_info": {
   "codemirror_mode": {
    "name": "ipython",
    "version": 3
   },
   "file_extension": ".py",
   "mimetype": "text/x-python",
   "name": "python",
   "nbconvert_exporter": "python",
   "pygments_lexer": "ipython3",
   "version": "3.9.7"
  }
 },
 "nbformat": 4,
 "nbformat_minor": 5
}
