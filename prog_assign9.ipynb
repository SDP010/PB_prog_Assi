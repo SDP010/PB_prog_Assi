{
 "cells": [
  {
   "cell_type": "code",
   "execution_count": 4,
   "id": "3eb8ca2d",
   "metadata": {},
   "outputs": [
    {
     "name": "stdout",
     "output_type": "stream",
     "text": [
      "Enter the number : 0\n",
      "Invalid Input : must be greater than 0\n"
     ]
    }
   ],
   "source": [
    "#1. Python program to check if the given number is a Disarium Number\n",
    "\n",
    "def check_disarium(n):\n",
    "    var = n\n",
    "    sum = 0 \n",
    "    while var > 0:\n",
    "        r = var %10\n",
    "        sum = sum + r**(len(str(var)))\n",
    "        var = var // 10\n",
    "    return sum\n",
    "\n",
    "try :\n",
    "    \n",
    "    num = int(input(\"Enter the number : \"))\n",
    "    if num > 0:\n",
    "        result = check_disarium(num)\n",
    "    else :\n",
    "        raise Exception(\"Invalid Input : must be greater than 0\")\n",
    "    \n",
    "    if result == num :\n",
    "        print(f'{num} is a Disarium number')\n",
    "    else :\n",
    "        print(f\"{num} is not a Disarium number\")\n",
    "\n",
    "except Exception as e :\n",
    "    print(e)\n",
    "    \n",
    "    "
   ]
  },
  {
   "cell_type": "code",
   "execution_count": 12,
   "id": "30cce0ab",
   "metadata": {},
   "outputs": [
    {
     "name": "stdout",
     "output_type": "stream",
     "text": [
      "list of all disarium number is [1, 2, 3, 4, 5, 6, 7, 8, 9, 89]\n"
     ]
    }
   ],
   "source": [
    "#2. Python program to print all disarium numbers between 1 to 100\n",
    "\n",
    "l=[]\n",
    "for i in range (1, 101) :\n",
    "    num = i \n",
    "    sum = 0\n",
    "    while num > 0 :\n",
    "        r = num % 10\n",
    "        sum = sum + r**len(str(num))\n",
    "        num = num // 10\n",
    "    if sum == i :\n",
    "        l.append(i)\n",
    "print(f\"list of all disarium number is {l}\")      \n",
    "    "
   ]
  },
  {
   "cell_type": "code",
   "execution_count": 14,
   "id": "b9385114",
   "metadata": {},
   "outputs": [
    {
     "name": "stdout",
     "output_type": "stream",
     "text": [
      "Enter the number : 19\n",
      "yes, 19 is a happy number\n"
     ]
    }
   ],
   "source": [
    "#3. Python program to check if the given number is Happy Number\n",
    "\n",
    "def check_happyno(n):\n",
    "    while len(str(n)) > 1 :\n",
    "        num = n\n",
    "        sum = 0\n",
    "        while num > 0:\n",
    "            r = num % 10\n",
    "            sum = sum + r**2\n",
    "            num = num // 10\n",
    "        n = sum\n",
    "    return n\n",
    "try :\n",
    "    \n",
    "    num_input = int(input(\"Enter the number : \"))\n",
    "    if num_input <=0 :\n",
    "        raise Exception(\"Invalid Input : must be greater than 0\")\n",
    "    else :\n",
    "        pass\n",
    "    result = check_happyno(num_input)\n",
    "    if len(str(result)) == 1 :\n",
    "        if result == 1 :\n",
    "            print(f\"yes, {num_input} is a happy number\")\n",
    "        else :\n",
    "            print(f\"no, {num_input} is not a happy number\")\n",
    "except Exception as e :\n",
    "    print(e)"
   ]
  },
  {
   "cell_type": "code",
   "execution_count": 3,
   "id": "e10f0db5",
   "metadata": {},
   "outputs": [
    {
     "name": "stdout",
     "output_type": "stream",
     "text": [
      "[1, 10, 13, 19, 23, 28, 31, 32, 44, 49, 68, 70, 79, 82, 86, 91, 94, 97, 100]\n"
     ]
    }
   ],
   "source": [
    "#4. Python program to print all happy numbers between 1 and 100\n",
    "\n",
    "l =[]\n",
    "for i in range (1,101) :\n",
    "    n = i\n",
    "    while len(str(n)) >1 :\n",
    "        num = n\n",
    "        sum = 0\n",
    "        while num > 0:\n",
    "            r = num % 10\n",
    "            sum = sum + r**2\n",
    "            num = num // 10\n",
    "        n = sum\n",
    "    if len(str(n)) == 1 :\n",
    "        if n == 1:\n",
    "            l.append(i)\n",
    "        else :\n",
    "            pass\n",
    "    else :\n",
    "        pass\n",
    "print(l)"
   ]
  },
  {
   "cell_type": "code",
   "execution_count": 11,
   "id": "ebb393ae",
   "metadata": {},
   "outputs": [
    {
     "name": "stdout",
     "output_type": "stream",
     "text": [
      "Enter the number : 156\n",
      "yes, 156 is a Hrshad number\n"
     ]
    }
   ],
   "source": [
    "#5. Python program to determine whether the given number is a Harshad Number\n",
    "\n",
    "def check_harshad(num) :\n",
    "    var = num\n",
    "    sum = 0\n",
    "    while var > 0 :\n",
    "        r = var % 10\n",
    "        sum = sum + r\n",
    "        var = var // 10\n",
    "    return sum\n",
    "\n",
    "try :\n",
    "    n = int(input(\"Enter the number : \"))\n",
    "    if n <= 0 :\n",
    "        raise Exception (\"Invalid Input : Enter a positive number\")\n",
    "    else :\n",
    "        pass\n",
    "    result = check_harshad(n)\n",
    "    if n % result == 0  :\n",
    "        print (f\"yes, {n} is a Hrshad number\")\n",
    "    else :\n",
    "        print(f\"no, {n} is not a Hrshad number\")\n",
    "except Exception as e :\n",
    "    print(e)"
   ]
  },
  {
   "cell_type": "code",
   "execution_count": 12,
   "id": "3b8277a4",
   "metadata": {},
   "outputs": [
    {
     "name": "stdout",
     "output_type": "stream",
     "text": [
      "[2, 6, 12, 20, 30, 42, 56, 72, 90]\n"
     ]
    }
   ],
   "source": [
    "#6. Python program to print all pronic numbers between 1 and 100\n",
    "L=[]\n",
    "for i in range(1,101):\n",
    "    for j  in range(1,i+1):\n",
    "        if j*(j+1)==i:\n",
    "            L.append(i)\n",
    "            break\n",
    "print(L)"
   ]
  },
  {
   "cell_type": "code",
   "execution_count": 14,
   "id": "c2036f16",
   "metadata": {},
   "outputs": [
    {
     "name": "stdout",
     "output_type": "stream",
     "text": [
      "[1, 2, 3, 4, 5, 6, 7, 8, 9, 10, 12, 18, 20, 21, 24, 27, 30, 36, 40, 42, 45, 48, 50, 54, 60, 63, 70, 72, 80, 81, 84, 90, 100]\n"
     ]
    }
   ],
   "source": [
    "#7. Python program to print all harshad numbers between 1 and 100\n",
    "\n",
    "l = []\n",
    "for i in range (1, 101) :\n",
    "    var = i\n",
    "    sum = 0\n",
    "    while var>0 :\n",
    "        r = var%10\n",
    "        sum = sum + r\n",
    "        var = var // 10\n",
    "    if i % sum == 0 :\n",
    "        l.append(i)\n",
    "    else :\n",
    "        pass\n",
    "print(l)        "
   ]
  },
  {
   "cell_type": "code",
   "execution_count": null,
   "id": "3ab8c76b",
   "metadata": {},
   "outputs": [],
   "source": []
  }
 ],
 "metadata": {
  "kernelspec": {
   "display_name": "Python 3 (ipykernel)",
   "language": "python",
   "name": "python3"
  },
  "language_info": {
   "codemirror_mode": {
    "name": "ipython",
    "version": 3
   },
   "file_extension": ".py",
   "mimetype": "text/x-python",
   "name": "python",
   "nbconvert_exporter": "python",
   "pygments_lexer": "ipython3",
   "version": "3.9.7"
  }
 },
 "nbformat": 4,
 "nbformat_minor": 5
}
