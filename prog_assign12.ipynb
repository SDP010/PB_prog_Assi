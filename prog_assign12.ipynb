{
 "cells": [
  {
   "cell_type": "code",
   "execution_count": 3,
   "id": "ae335cbb",
   "metadata": {},
   "outputs": [
    {
     "data": {
      "text/plain": [
       "{1, 2, 3}"
      ]
     },
     "execution_count": 3,
     "metadata": {},
     "output_type": "execute_result"
    }
   ],
   "source": [
    "#1. Python program to Extract Unique values dictionary values\n",
    "\n",
    "def unique_val(d) :\n",
    "    if type(d) == dict :\n",
    "        val = d.values()\n",
    "    return set(val)\n",
    "\n",
    "unique_val({\"a\" :1, \"b\" : 2, \"c\" : 3, \"d\" :3})"
   ]
  },
  {
   "cell_type": "code",
   "execution_count": 4,
   "id": "932bf798",
   "metadata": {},
   "outputs": [
    {
     "data": {
      "text/plain": [
       "('a', 2, 'b', 2, 'c', 3, 'd', 4, 'e', 4, 'f', 3)"
      ]
     },
     "execution_count": 4,
     "metadata": {},
     "output_type": "execute_result"
    }
   ],
   "source": [
    "#2. Python program to find the sum of all items in a dictionary\n",
    "\n",
    "\n",
    "def sum_dictitems(d) :\n",
    "    \n",
    "    temp = d.items()\n",
    "    sum = ()\n",
    "    for i in temp :\n",
    "        sum = sum + i\n",
    "    return sum\n",
    "sum_dictitems({'a':2, 'b':2, 'c':3, 'd':4, 'e':4, 'f':3})"
   ]
  },
  {
   "cell_type": "code",
   "execution_count": 8,
   "id": "02d42ee7",
   "metadata": {},
   "outputs": [
    {
     "data": {
      "text/plain": [
       "{'a': 1, 'b': 2, 'c': 3, 'd': 4, 'e': 5, 'f': 6}"
      ]
     },
     "execution_count": 8,
     "metadata": {},
     "output_type": "execute_result"
    }
   ],
   "source": [
    "#3. Python program to Merging two Dictionaries\n",
    "\n",
    "def merge_dict(d_1, d_2) :\n",
    "    d_1.update(d_2)\n",
    "    return d_1\n",
    "merge_dict({'a':1, 'b':2, 'c':3}, {'d':4, 'e':5, 'f':6})"
   ]
  },
  {
   "cell_type": "code",
   "execution_count": 19,
   "id": "b9ef4a47",
   "metadata": {},
   "outputs": [
    {
     "data": {
      "text/plain": [
       "{'a': 1, 'b': 2, 'c': 3, 'd': 4, 'e': 5, 'f': 6}"
      ]
     },
     "execution_count": 19,
     "metadata": {},
     "output_type": "execute_result"
    }
   ],
   "source": [
    "#4. Python program to convert key-values list to flat dictionary\n",
    "\n",
    "def convrt_todict(lst) :\n",
    "    n = len(lst)\n",
    "    temp = {}\n",
    "    for i in range(0,n,2) :\n",
    "        temp[lst[i]] = lst[i + 1]\n",
    "    return temp\n",
    "\n",
    "convrt_todict(['a', 1, 'b', 2, 'c', 3, 'd', 4, 'e', 5, 'f', 6])"
   ]
  },
  {
   "cell_type": "code",
   "execution_count": null,
   "id": "8b5752fc",
   "metadata": {},
   "outputs": [],
   "source": [
    "#5. Python program to insertion at the beginning in OrderedDict\n",
    "#6. Python program to check order of character in string using OrderedDict()\n",
    "\n",
    "\"\"\"couldn't do these two probelms.please help.\"\"\""
   ]
  },
  {
   "cell_type": "code",
   "execution_count": 16,
   "id": "ce242026",
   "metadata": {},
   "outputs": [
    {
     "name": "stdout",
     "output_type": "stream",
     "text": [
      "the sorted by key of the dictionary {'b': 1, 'a': 3, 'c': 2} is {'a': 3, 'b': 1, 'c': 2}\n",
      "the sorted by values of the dictionary {'b': 3, 'a': 2, 'c': 1} is {'c': 1, 'a': 2, 'b': 3}\n"
     ]
    }
   ],
   "source": [
    "#7. Python program to sort Python Dictionaries by Key or Value\n",
    "\n",
    "def sort_by_keys(d) :\n",
    "    key = d.keys()\n",
    "    temp = []\n",
    "    temp_1 = {}\n",
    "    for i in key :\n",
    "        temp.append(i)\n",
    "    temp.sort()\n",
    "    for i in temp:\n",
    "        temp_1.update({i:d[i]})\n",
    "    return temp_1\n",
    "#     print('the sorted by key of the dictionary {} is {} '.format(d,temp_1))\n",
    "\n",
    "def sort_by_values(d) :\n",
    "# d={'b':3, 'a':1, 'c':3}\n",
    "    d_1 = d.items()\n",
    "    d_2 = sorted(d_1, key= lambda i:i[1])\n",
    "    return dict(d_2)\n",
    "\n",
    "input1 = {'b':1, 'a':3, 'c':2}\n",
    "result1 = sort_by_keys(input1)\n",
    "print(f'the sorted by key of the dictionary {input1} is {result1}')\n",
    "\n",
    "input2 = {'b':3, 'a':2, 'c':1}\n",
    "result2 = sort_by_values(input2)\n",
    "print(f'the sorted by values of the dictionary {input2} is {result2}')\n"
   ]
  },
  {
   "cell_type": "code",
   "execution_count": 14,
   "id": "ce795369",
   "metadata": {},
   "outputs": [
    {
     "data": {
      "text/plain": [
       "{'e': 1, 'b': 2, 'c': 3}"
      ]
     },
     "execution_count": 14,
     "metadata": {},
     "output_type": "execute_result"
    }
   ],
   "source": [
    "sort_by_values({'b':2, 'e':1, 'c':3})"
   ]
  },
  {
   "cell_type": "code",
   "execution_count": 3,
   "id": "3958aa62",
   "metadata": {},
   "outputs": [
    {
     "name": "stdout",
     "output_type": "stream",
     "text": [
      "the sorted by key of the dictionary {'b': 2, 'a': 1, 'c': 3} is {'a': 1, 'b': 2, 'c': 3} \n",
      "the sorted by value of the dictionary {'b': 3, 'a': 1, 'c': 3} is {'a': 1, 'b': 3, 'c': 3}\n"
     ]
    }
   ],
   "source": [
    "#7. sort python dictionaries by keys and values\n",
    "\n",
    "# sort by keys\n",
    "d={'b':2, 'a':1, 'c':3}\n",
    "l=d.keys()\n",
    "w=[]\n",
    "for i in l:\n",
    "    w.append(i)\n",
    "w.sort()\n",
    "w\n",
    "s={}\n",
    "for i in w:\n",
    "    s.update({i:d[i]})\n",
    "print('the sorted by key of the dictionary {} is {} '.format(d,s))\n",
    "\n",
    "# sort by values\n",
    "d={'b':3, 'a':1, 'c':3}\n",
    "d1=d.items()\n",
    "d2=sorted(d1, key= lambda i:i[1])\n",
    "print('the sorted by value of the dictionary {} is {}'.format(d, dict(d2)))"
   ]
  },
  {
   "cell_type": "code",
   "execution_count": null,
   "id": "cec64b60",
   "metadata": {},
   "outputs": [],
   "source": []
  }
 ],
 "metadata": {
  "kernelspec": {
   "display_name": "Python 3 (ipykernel)",
   "language": "python",
   "name": "python3"
  },
  "language_info": {
   "codemirror_mode": {
    "name": "ipython",
    "version": 3
   },
   "file_extension": ".py",
   "mimetype": "text/x-python",
   "name": "python",
   "nbconvert_exporter": "python",
   "pygments_lexer": "ipython3",
   "version": "3.9.7"
  }
 },
 "nbformat": 4,
 "nbformat_minor": 5
}
