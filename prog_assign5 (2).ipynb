{
 "cells": [
  {
   "cell_type": "code",
   "execution_count": 5,
   "id": "8c8c1340",
   "metadata": {},
   "outputs": [
    {
     "name": "stdout",
     "output_type": "stream",
     "text": [
      "Enter the first no. : 4\n",
      "Enter the first no. : 5\n",
      "Required L.C.M is :  20\n"
     ]
    }
   ],
   "source": [
    "# python programme to find lcm\n",
    "\n",
    "import logging\n",
    "logging.basicConfig(filename=\"comp_lcm.log\", level=logging.INFO, format='%(asctime)s %(message)s')\n",
    "\n",
    "def find_lcm(x, y):\n",
    "    logging.info(\"checking which number is true\")\n",
    "    if x > y:\n",
    "        greater = x\n",
    "    else:\n",
    "        greater = y\n",
    "\n",
    "    flag = True\n",
    "    while flag:\n",
    "        if greater % x == 0 and greater % y == 0:\n",
    "            lcm = greater\n",
    "            flag = False\n",
    "        else:\n",
    "            greater += 1\n",
    "    logging.info(\"Calculating L.C.M\")\n",
    "    return lcm\n",
    "\n",
    "\n",
    "try:\n",
    "    num_1 = int(input(\"Enter the first no. : \"))\n",
    "    num_2 = int(input(\"Enter the first no. : \"))\n",
    "    logging.info(\"Taking input from user\")\n",
    "\n",
    "    lcm = find_lcm(num_1, num_2)\n",
    "    print(\"Required L.C.M is : \", lcm)\n",
    "    logging.info(\"calculation successful\")\n",
    "except Exception as e:\n",
    "    print(\"Invalid input, ERROR\", e)\n",
    "    logging.erro(e)\n"
   ]
  },
  {
   "cell_type": "code",
   "execution_count": 1,
   "id": "2e95bae2",
   "metadata": {},
   "outputs": [
    {
     "name": "stdout",
     "output_type": "stream",
     "text": [
      "Enter the first number : 54\n",
      "Enter the second number : 24\n",
      "Required H.C.F is :  6\n"
     ]
    }
   ],
   "source": [
    "#python program to find hcf\n",
    "\n",
    "import logging\n",
    "logging.basicConfig(filename=\"comp_lcm.log\", level=logging.INFO, format='%(asctime)s %(message)s')\n",
    "\n",
    "def find_hcf(x,y) :\n",
    "    if x > y :\n",
    "        smaller = y\n",
    "    else :\n",
    "        smaller = x\n",
    "    logging.info(\"checking which number is smaller\")\n",
    "\n",
    "    for i in range (1, smaller+1) :\n",
    "        if x % i == 0 and y % i == 0 :\n",
    "            hcf = i\n",
    "    logging.info(\"Calculating H.C.F\")\n",
    "    return hcf\n",
    "\n",
    "try :\n",
    "    num_1 = int(input(\"Enter the first number : \"))\n",
    "    num_2 = int(input(\"Enter the second number : \"))\n",
    "    logging.info(\"taking input from user\")\n",
    "\n",
    "    hcf = find_hcf(num_1, num_2)\n",
    "    print(\"Required H.C.F is : \",hcf)\n",
    "    logging.info(\"calculation successful\")\n",
    "\n",
    "except Exception as e :\n",
    "    print(\"Invalid input, ERROR\", e)\n",
    "    logging.error(e)\n"
   ]
  },
  {
   "cell_type": "code",
   "execution_count": 6,
   "id": "8fbf0cdb",
   "metadata": {},
   "outputs": [
    {
     "name": "stdout",
     "output_type": "stream",
     "text": [
      "Enter the decimal value : r\n",
      "input value is not integer :  invalid literal for int() with base 10: 'r'\n"
     ]
    }
   ],
   "source": [
    "#Python Program to Convert Decimal to Binary, Octal and Hexadecimal\n",
    "\n",
    "import logging\n",
    "logging.basicConfig(filename = \"comp_lcm.log\", level = logging.INFO, format ='{asctime} %(levelname)s %(message)s  %(lineno)d')\n",
    "\n",
    "def conversion(dec_value) :\n",
    "    bin_value = bin(dec_value)\n",
    "    oct_value = oct(dec_value)\n",
    "    hex_value = hex(dec_value)\n",
    "    logging.info(\"conversion successful\")\n",
    "    return bin_value, oct_value, hex_value\n",
    "\n",
    "\n",
    "try :\n",
    "    dec_value = int(input(\"Enter the decimal value : \"))\n",
    "    x,y,z = conversion(dec_value)\n",
    "    logging.info(\"output given\")\n",
    "    print(f' required binary is {x} \\n required octal is {y} \\n required hex is {z} \\n ')\n",
    "\n",
    "\n",
    "except Exception as e:\n",
    "    logging.error(e)\n",
    "    print(\"error : \", e)"
   ]
  },
  {
   "cell_type": "code",
   "execution_count": null,
   "id": "321d8a8b",
   "metadata": {},
   "outputs": [],
   "source": [
    "# Python Program to Make a Simple Calculator with 4 basic mathematical operations?\n",
    "\n",
    "import logging\n",
    "logging.basicConfig(filename=\"calc1.log\", level=logging.INFO, format='%(asctime)s %(levelname)s %(message)s  %(lineno)d')\n",
    "\n",
    "class calculator:\n",
    "    def __init__(self, num_1, num_2, operation):\n",
    "\n",
    "        self.num_1 = num_1\n",
    "        self.num_2 = num_2\n",
    "        self.operation = operation\n",
    "\n",
    "        if self.operation == 'add':\n",
    "            print(self.add())\n",
    "            logging.info(\"sucessful\")\n",
    "        elif self.operation == 'sub':\n",
    "            print(self.sub())\n",
    "        elif self.operation == 'mul':\n",
    "            print(self.mul())\n",
    "        elif self.operation == \"division\":\n",
    "            print(self.division())\n",
    "        else :\n",
    "            logging.error(\"invalid operation type\")\n",
    "            print(\"incorrect operation input, please enter keyword as 'sub','add','mul','division'\")\n",
    "\n",
    "    def add(self):\n",
    "        result = self.num_1 + self.num_2\n",
    "        return result\n",
    "\n",
    "    def sub(self):\n",
    "        result = self.num_1 - self.num_2\n",
    "        return result\n",
    "\n",
    "    def mul(self):\n",
    "        result = self.num_1 * self.num_2\n",
    "        return result\n",
    "\n",
    "    def division(self):\n",
    "\n",
    "        try:\n",
    "            result = self.num_1 / self.num_2\n",
    "        except Exception as e:\n",
    "            print(\"Error : \", e)\n",
    "        finally:\n",
    "            return result\n",
    "try :\n",
    "\n",
    "    input_1 = int(input(\"val_1 :\"))\n",
    "    input_2 = int(input(\"val_2 : \"))\n",
    "    input_3 = input(\"operation : \")\n",
    "    \n",
    "    x = calculator(input_1, input_2, input_3)\n",
    "\n",
    "except Exception as e :\n",
    "    logging.error(e)\n",
    "    print(\"Error : \", e)\n",
    "\n"
   ]
  },
  {
   "cell_type": "code",
   "execution_count": 29,
   "id": "4d35892e",
   "metadata": {},
   "outputs": [
    {
     "name": "stdout",
     "output_type": "stream",
     "text": [
      " Enter the chacter : s\n",
      "ASCII value is :  115\n"
     ]
    }
   ],
   "source": [
    "# Python Program To Find ASCII value of a character\n",
    "\n",
    "import logging\n",
    "logging.basicConfig(filename=\"calc1.log\", level=logging.INFO, format='%(asctime)s %(levelname)s %(message)s  %(lineno)d')\n",
    "\n",
    "def ascii_val(char):\n",
    "    if len(char) > 1 :\n",
    "        raise Exception (\"expected one charecter, got multiple\")\n",
    "    else :\n",
    "        pass\n",
    "    return ord(char)\n",
    "\n",
    "try :\n",
    "    char_input = input(\" Enter the chacter : \")\n",
    "    print(\"ASCII value is : \", ascii_val(char_input))\n",
    "    logging.info(\"Sucessful\")\n",
    "\n",
    "except Exception as e :\n",
    "    print(\" ERROR : \", e)\n",
    "    logging.error(e)\n"
   ]
  },
  {
   "cell_type": "code",
   "execution_count": null,
   "id": "25e7c0ce",
   "metadata": {},
   "outputs": [],
   "source": []
  }
 ],
 "metadata": {
  "kernelspec": {
   "display_name": "Python 3 (ipykernel)",
   "language": "python",
   "name": "python3"
  },
  "language_info": {
   "codemirror_mode": {
    "name": "ipython",
    "version": 3
   },
   "file_extension": ".py",
   "mimetype": "text/x-python",
   "name": "python",
   "nbconvert_exporter": "python",
   "pygments_lexer": "ipython3",
   "version": "3.9.7"
  }
 },
 "nbformat": 4,
 "nbformat_minor": 5
}
